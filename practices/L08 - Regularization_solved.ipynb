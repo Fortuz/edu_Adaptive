{
 "cells": [
  {
   "cell_type": "markdown",
   "metadata": {},
   "source": [
    "<img src=\"assets/logo.png\" width=\"800\">"
   ]
  },
  {
   "cell_type": "markdown",
   "metadata": {},
   "source": [
    "# Labor 08 - Lineáris regresszió regularizálása és Bias - Variancia\n",
    "### Vízfolyás\n",
    "A feladat első felében implementálásra kerül egy lineáris regresszió, hogy előre jelezhessük a kifolyt víz mennyiségét egy tartályból, annak alapján, hogy abban mennyi víz van. A feladat második felében megfigyeljük a tanulóalgoritmusok debuggolását és a bias illetve variancia típusú hibákat."
   ]
  },
  {
   "cell_type": "markdown",
   "metadata": {},
   "source": [
    "### 1: Importálás, adatok betöltése és vizualizálása"
   ]
  },
  {
   "cell_type": "code",
   "execution_count": 1,
   "metadata": {},
   "outputs": [
    {
     "name": "stderr",
     "output_type": "stream",
     "text": [
      "Using TensorFlow backend.\n"
     ]
    },
    {
     "name": "stdout",
     "output_type": "stream",
     "text": [
      "Shape of X: (12, 1)\n",
      "Shape of Y: (12, 1)\n"
     ]
    }
   ],
   "source": [
    "import numpy as np\n",
    "import matplotlib.pyplot as plt\n",
    "from scipy.io import loadmat\n",
    "import scipy.optimize as op\n",
    "\n",
    "# keras imports for the dataset and building our neural network\n",
    "from keras.models import Sequential\n",
    "from keras.layers.core import Dense, Activation\n",
    "from keras import regularizers\n",
    "from keras import optimizers\n",
    "\n",
    "\n",
    "from numpy.random import seed\n",
    "seed(1)\n",
    "\n",
    "data = loadmat(\"Lab8data.mat\")                          # adatok betöltése\n",
    "X_train = data[\"X\"]                                     # adatok szerkesztése változókba\n",
    "Y_train = data[\"y\"]\n",
    "X_val   = data[\"Xval\"]\n",
    "Y_val   = data[\"yval\"]\n",
    "X_test  = data[\"Xtest\"]\n",
    "Y_test  = data[\"ytest\"]\n",
    "\n",
    "del data\n",
    "m,n = X_train.shape\n",
    "print('Shape of X:', X_train.shape)\n",
    "print('Shape of Y:', Y_train.shape)"
   ]
  },
  {
   "cell_type": "code",
   "execution_count": 2,
   "metadata": {},
   "outputs": [
    {
     "data": {
      "image/png": "[encoded data removed]",
      "text/plain": [
       "<Figure size 432x288 with 1 Axes>"
      ]
     },
     "metadata": {
      "needs_background": "light"
     },
     "output_type": "display_data"
    }
   ],
   "source": [
    "plt.plot(X_train,Y_train,'x')   # adatok megjelenítése\n",
    "plt.title('Training data')\n",
    "plt.xlabel('Change in water level (X)')\n",
    "plt.ylabel('Water floeing out of the dam (Y)')\n",
    "plt.show()"
   ]
  },
  {
   "cell_type": "markdown",
   "metadata": {},
   "source": [
    "A machine learning addig tart, ahol a deep learning elkezdődik. A határ az egy rétegű neurális háló. Ezzel a gondolattal térjünk vissza a L04-es laboron bevezetett büntetetéses eljáráshoz, immáron a neurális háló csomagokat használva. "
   ]
  },
  {
   "cell_type": "markdown",
   "metadata": {},
   "source": [
    "### Linearizált regresszió büntetéssel"
   ]
  },
  {
   "cell_type": "markdown",
   "metadata": {},
   "source": [
    "A lineáris regressziónak megfelelő \"hálót\" hozunk létre, amely esetünkben 1 bemenő változóra fog épülni és 1 rétegből fog állni, amely 1 neuront fog tartalmazni. A BIAS tagot természetesen hozzá tesszük és kiegészítjük egy büntető taggal. Két gyakran használt büntetési eljárás az L1 és L2.\n",
    "\n",
    "#### L2 regularizáció (Ridge regression)\n",
    "$ C(w)=\\frac{1}{2m}\\sum_{i=1}^m(h_w(x^i)-y^i)^2+ \\color{red}{\\lambda\\sum_{j=1}^nw_j^2} $\n",
    "\n",
    "Ez a teknika jól alkalmazható a túltanulás megelőzésére. $\\lambda $  megválasztására viszont figyelni kell, mivel túl nagyra választva előfordulhat az alul tanulás esete. \n",
    "\n",
    "#### L1 regularizáció (Lasso regression)\n",
    "$ C(w)=\\frac{1}{2m}\\sum_{i=1}^m(h_w(x^i)-y^i)^2+ \\color{red}{\\lambda\\sum_{j=1}^n|w_j|} $\n",
    "\n",
    "Ez a teknika bizonyos együtthatókat 0-ra is redukálhat, így jól használható bemeneti paraméter szelektálásra.\n",
    "\n"
   ]
  },
  {
   "cell_type": "markdown",
   "metadata": {},
   "source": [
    "Vizsgáljuk meg az alábbi háló összeállítást."
   ]
  },
  {
   "cell_type": "code",
   "execution_count": 3,
   "metadata": {},
   "outputs": [
    {
     "name": "stdout",
     "output_type": "stream",
     "text": [
      "WARNING:tensorflow:From C:\\Users\\Fortuz Legion\\.conda\\envs\\work\\lib\\site-packages\\tensorflow\\python\\framework\\op_def_library.py:263: colocate_with (from tensorflow.python.framework.ops) is deprecated and will be removed in a future version.\n",
      "Instructions for updating:\n",
      "Colocations handled automatically by placer.\n",
      "WARNING:tensorflow:From C:\\Users\\Fortuz Legion\\.conda\\envs\\work\\lib\\site-packages\\tensorflow\\python\\ops\\math_ops.py:3066: to_int32 (from tensorflow.python.ops.math_ops) is deprecated and will be removed in a future version.\n",
      "Instructions for updating:\n",
      "Use tf.cast instead.\n",
      "Train on 12 samples, validate on 21 samples\n",
      "Epoch 1/100\n",
      " - 0s - loss: 682.8117 - val_loss: 761.7751\n",
      "Epoch 2/100\n",
      " - 0s - loss: 676.3384 - val_loss: 755.8954\n",
      "Epoch 3/100\n",
      " - 0s - loss: 670.8167 - val_loss: 749.7026\n",
      "Epoch 4/100\n",
      " - 0s - loss: 665.0017 - val_loss: 743.3539\n",
      "Epoch 5/100\n",
      " - 0s - loss: 659.0408 - val_loss: 736.9243\n",
      "Epoch 6/100\n",
      " - 0s - loss: 653.0045 - val_loss: 730.4554\n",
      "Epoch 7/100\n",
      " - 0s - loss: 646.9321 - val_loss: 723.9730\n",
      "Epoch 8/100\n",
      " - 0s - loss: 640.8476 - val_loss: 717.4940\n",
      "Epoch 9/100\n",
      " - 0s - loss: 634.7670 - val_loss: 711.0307\n",
      "Epoch 10/100\n",
      " - 0s - loss: 628.7018 - val_loss: 704.5919\n",
      "Epoch 11/100\n",
      " - 0s - loss: 622.6605 - val_loss: 698.1841\n",
      "Epoch 12/100\n",
      " - 0s - loss: 616.6487 - val_loss: 691.8126\n",
      "Epoch 13/100\n",
      " - 0s - loss: 610.6719 - val_loss: 685.4816\n",
      "Epoch 14/100\n",
      " - 0s - loss: 604.7338 - val_loss: 679.1942\n",
      "Epoch 15/100\n",
      " - 0s - loss: 598.8372 - val_loss: 672.9532\n",
      "Epoch 16/100\n",
      " - 0s - loss: 592.9850 - val_loss: 666.7610\n",
      "Epoch 17/100\n",
      " - 0s - loss: 587.1793 - val_loss: 660.6193\n",
      "Epoch 18/100\n",
      " - 0s - loss: 581.4216 - val_loss: 654.5298\n",
      "Epoch 19/100\n",
      " - 0s - loss: 575.7135 - val_loss: 648.4938\n",
      "Epoch 20/100\n",
      " - 0s - loss: 570.0564 - val_loss: 642.5124\n",
      "Epoch 21/100\n",
      " - 0s - loss: 564.4514 - val_loss: 636.5866\n",
      "Epoch 22/100\n",
      " - 0s - loss: 558.8990 - val_loss: 630.7172\n",
      "Epoch 23/100\n",
      " - 0s - loss: 553.4004 - val_loss: 624.9050\n",
      "Epoch 24/100\n",
      " - 0s - loss: 547.9561 - val_loss: 619.1505\n",
      "Epoch 25/100\n",
      " - 0s - loss: 542.5665 - val_loss: 613.4540\n",
      "Epoch 26/100\n",
      " - 0s - loss: 537.2321 - val_loss: 607.8162\n",
      "Epoch 27/100\n",
      " - 0s - loss: 531.9534 - val_loss: 602.2373\n",
      "Epoch 28/100\n",
      " - 0s - loss: 526.7305 - val_loss: 596.7173\n",
      "Epoch 29/100\n",
      " - 0s - loss: 521.5637 - val_loss: 591.2565\n",
      "Epoch 30/100\n",
      " - 0s - loss: 516.4532 - val_loss: 585.8553\n",
      "Epoch 31/100\n",
      " - 0s - loss: 511.3990 - val_loss: 580.5135\n",
      "Epoch 32/100\n",
      " - 0s - loss: 506.4012 - val_loss: 575.2311\n",
      "Epoch 33/100\n",
      " - 0s - loss: 501.4598 - val_loss: 570.0083\n",
      "Epoch 34/100\n",
      " - 0s - loss: 496.5748 - val_loss: 564.8446\n",
      "Epoch 35/100\n",
      " - 0s - loss: 491.7461 - val_loss: 559.7404\n",
      "Epoch 36/100\n",
      " - 0s - loss: 486.9737 - val_loss: 554.6952\n",
      "Epoch 37/100\n",
      " - 0s - loss: 482.2572 - val_loss: 549.7091\n",
      "Epoch 38/100\n",
      " - 0s - loss: 477.5968 - val_loss: 544.7817\n",
      "Epoch 39/100\n",
      " - 0s - loss: 472.9920 - val_loss: 539.9130\n",
      "Epoch 40/100\n",
      " - 0s - loss: 468.4427 - val_loss: 535.1025\n",
      "Epoch 41/100\n",
      " - 0s - loss: 463.9487 - val_loss: 530.3500\n",
      "Epoch 42/100\n",
      " - 0s - loss: 459.5098 - val_loss: 525.6555\n",
      "Epoch 43/100\n",
      " - 0s - loss: 455.1256 - val_loss: 521.0182\n",
      "Epoch 44/100\n",
      " - 0s - loss: 450.7958 - val_loss: 516.4384\n",
      "Epoch 45/100\n",
      " - 0s - loss: 446.5203 - val_loss: 511.9153\n",
      "Epoch 46/100\n",
      " - 0s - loss: 442.2985 - val_loss: 507.4486\n",
      "Epoch 47/100\n",
      " - 0s - loss: 438.1302 - val_loss: 503.0380\n",
      "Epoch 48/100\n",
      " - 0s - loss: 434.0152 - val_loss: 498.6833\n",
      "Epoch 49/100\n",
      " - 0s - loss: 429.9529 - val_loss: 494.3841\n",
      "Epoch 50/100\n",
      " - 0s - loss: 425.9431 - val_loss: 490.1397\n",
      "Epoch 51/100\n",
      " - 0s - loss: 421.9854 - val_loss: 485.9500\n",
      "Epoch 52/100\n",
      " - 0s - loss: 418.0793 - val_loss: 481.8146\n",
      "Epoch 53/100\n",
      " - 0s - loss: 414.2247 - val_loss: 477.7329\n",
      "Epoch 54/100\n",
      " - 0s - loss: 410.4209 - val_loss: 473.7047\n",
      "Epoch 55/100\n",
      " - 0s - loss: 406.6676 - val_loss: 469.7292\n",
      "Epoch 56/100\n",
      " - 0s - loss: 402.9645 - val_loss: 465.8064\n",
      "Epoch 57/100\n",
      " - 0s - loss: 399.3111 - val_loss: 461.9358\n",
      "Epoch 58/100\n",
      " - 0s - loss: 395.7069 - val_loss: 458.1167\n",
      "Epoch 59/100\n",
      " - 0s - loss: 392.1517 - val_loss: 454.3489\n",
      "Epoch 60/100\n",
      " - 0s - loss: 388.6449 - val_loss: 450.6319\n",
      "Epoch 61/100\n",
      " - 0s - loss: 385.1861 - val_loss: 446.9652\n",
      "Epoch 62/100\n",
      " - 0s - loss: 381.7750 - val_loss: 443.3485\n",
      "Epoch 63/100\n",
      " - 0s - loss: 378.4110 - val_loss: 439.7812\n",
      "Epoch 64/100\n",
      " - 0s - loss: 375.0938 - val_loss: 436.2628\n",
      "Epoch 65/100\n",
      " - 0s - loss: 371.8230 - val_loss: 432.7931\n",
      "Epoch 66/100\n",
      " - 0s - loss: 368.5979 - val_loss: 429.3714\n",
      "Epoch 67/100\n",
      " - 0s - loss: 365.4184 - val_loss: 425.9973\n",
      "Epoch 68/100\n",
      " - 0s - loss: 362.2839 - val_loss: 422.6705\n",
      "Epoch 69/100\n",
      " - 0s - loss: 359.1941 - val_loss: 419.3904\n",
      "Epoch 70/100\n",
      " - 0s - loss: 356.1483 - val_loss: 416.1566\n",
      "Epoch 71/100\n",
      " - 0s - loss: 353.1464 - val_loss: 412.9685\n",
      "Epoch 72/100\n",
      " - 0s - loss: 350.1877 - val_loss: 409.8260\n",
      "Epoch 73/100\n",
      " - 0s - loss: 347.2719 - val_loss: 406.7283\n",
      "Epoch 74/100\n",
      " - 0s - loss: 344.3986 - val_loss: 403.6751\n",
      "Epoch 75/100\n",
      " - 0s - loss: 341.5672 - val_loss: 400.6659\n",
      "Epoch 76/100\n",
      " - 0s - loss: 338.7774 - val_loss: 397.7003\n",
      "Epoch 77/100\n",
      " - 0s - loss: 336.0288 - val_loss: 394.7779\n",
      "Epoch 78/100\n",
      " - 0s - loss: 333.3208 - val_loss: 391.8980\n",
      "Epoch 79/100\n",
      " - 0s - loss: 330.6532 - val_loss: 389.0604\n",
      "Epoch 80/100\n",
      " - 0s - loss: 328.0254 - val_loss: 386.2646\n",
      "Epoch 81/100\n",
      " - 0s - loss: 325.4370 - val_loss: 383.5101\n",
      "Epoch 82/100\n",
      " - 0s - loss: 322.8877 - val_loss: 380.7965\n",
      "Epoch 83/100\n",
      " - 0s - loss: 320.3768 - val_loss: 378.1234\n",
      "Epoch 84/100\n",
      " - 0s - loss: 317.9042 - val_loss: 375.4902\n",
      "Epoch 85/100\n",
      " - 0s - loss: 315.4693 - val_loss: 372.8966\n",
      "Epoch 86/100\n",
      " - 0s - loss: 313.0717 - val_loss: 370.3421\n",
      "Epoch 87/100\n",
      " - 0s - loss: 310.7110 - val_loss: 367.8262\n",
      "Epoch 88/100\n",
      " - 0s - loss: 308.3867 - val_loss: 365.3486\n",
      "Epoch 89/100\n",
      " - 0s - loss: 306.0985 - val_loss: 362.9088\n",
      "Epoch 90/100\n",
      " - 0s - loss: 303.8460 - val_loss: 360.5065\n",
      "Epoch 91/100\n",
      " - 0s - loss: 301.6287 - val_loss: 358.1411\n",
      "Epoch 92/100\n",
      " - 0s - loss: 299.4463 - val_loss: 355.8121\n",
      "Epoch 93/100\n",
      " - 0s - loss: 297.2981 - val_loss: 353.5193\n",
      "Epoch 94/100\n",
      " - 0s - loss: 295.1842 - val_loss: 351.2622\n",
      "Epoch 95/100\n",
      " - 0s - loss: 293.1037 - val_loss: 349.0403\n",
      "Epoch 96/100\n",
      " - 0s - loss: 291.0564 - val_loss: 346.8532\n",
      "Epoch 97/100\n",
      " - 0s - loss: 289.0420 - val_loss: 344.7005\n",
      "Epoch 98/100\n",
      " - 0s - loss: 287.0599 - val_loss: 342.5819\n",
      "Epoch 99/100\n",
      " - 0s - loss: 285.1099 - val_loss: 340.4969\n",
      "Epoch 100/100\n",
      " - 0s - loss: 283.1915 - val_loss: 338.4449\n"
     ]
    }
   ],
   "source": [
    "# Underfit Case\n",
    "Lambda = 0\n",
    "lr_rate = 0.005\n",
    "epoch = 100\n",
    "\n",
    "# building a linear stack of layers with the sequential model\n",
    "model = Sequential()\n",
    "model.add(Dense(1, input_shape=(1,), use_bias=True, kernel_regularizer=regularizers.l2(Lambda)))\n",
    "\n",
    "# compiling the sequential model\n",
    "sgd = optimizers.Adam(lr=lr_rate)\n",
    "model.compile(loss='MSE', optimizer=sgd)\n",
    "\n",
    "# training the model and saving metrics in history\n",
    "history = model.fit(X_train, Y_train, epochs=epoch, validation_data=(X_val, Y_val), verbose = 2)"
   ]
  },
  {
   "cell_type": "markdown",
   "metadata": {},
   "source": [
    "Végezzük el a predikciót."
   ]
  },
  {
   "cell_type": "code",
   "execution_count": 4,
   "metadata": {},
   "outputs": [],
   "source": [
    "######################################################\n",
    "Y_pred = model.predict(X_test)\n",
    "######################################################"
   ]
  },
  {
   "cell_type": "markdown",
   "metadata": {},
   "source": [
    "Majd rajzoltassuk ki a kapott eredményt."
   ]
  },
  {
   "cell_type": "code",
   "execution_count": 5,
   "metadata": {},
   "outputs": [
    {
     "data": {
      "image/png": "[encoded data removed]",
      "text/plain": [
       "<Figure size 432x288 with 1 Axes>"
      ]
     },
     "metadata": {
      "needs_background": "light"
     },
     "output_type": "display_data"
    }
   ],
   "source": [
    "plt.plot(X_train,Y_train,'x')   # adatok megjelenítése\n",
    "plt.plot(X_test,Y_pred,'x', color='red')   # adatok megjelenítése\n",
    "plt.title('Training data')\n",
    "plt.xlabel('Change in water level (X)')\n",
    "plt.ylabel('Water floeing out of the dam (Y)')\n",
    "plt.legend(['Training data', 'Prediction (on Test data)'])\n",
    "plt.show()"
   ]
  },
  {
   "cell_type": "markdown",
   "metadata": {},
   "source": [
    "Az elvárásainknak és az egyszerű model felépítésünknek megfelelően egy lineáris becslést kaptunk, amely láthatóan nem megfelelően fedi az adatainkat. A beépített metrikákat felhasználva megvizsgálhatjuk a tanulás során a tanító és validáló adatokon a költség függvény lefutását. Ehhez először rajzoltassuk ki a megfelelő metrikákat."
   ]
  },
  {
   "cell_type": "code",
   "execution_count": 6,
   "metadata": {},
   "outputs": [
    {
     "data": {
      "text/plain": [
       "<matplotlib.legend.Legend at 0x21645ff6fd0>"
      ]
     },
     "execution_count": 6,
     "metadata": {},
     "output_type": "execute_result"
    },
    {
     "data": {
      "image/png": "[encoded data removed]",
      "text/plain": [
       "<Figure size 432x288 with 1 Axes>"
      ]
     },
     "metadata": {
      "needs_background": "light"
     },
     "output_type": "display_data"
    }
   ],
   "source": [
    "# plotting the metrics\n",
    "fig = plt.figure()\n",
    "plt.plot(history.history['loss'])\n",
    "plt.plot(history.history['val_loss'])\n",
    "plt.title('Loss functions')\n",
    "plt.ylabel('loss')\n",
    "plt.xlabel('epoch')\n",
    "plt.legend(['Training loss', 'Validation loss'])"
   ]
  },
  {
   "cell_type": "markdown",
   "metadata": {},
   "source": [
    "A grafikonon azt figyelhetjük meg, hogy mind a tanitó adatok költségfüggvény, mind a validációs adatok költségfüggvénye magas értéken maradt. Magasabban, mint ahogy azt elvárnánk egy jól működő prediktortól.\n",
    "<img src=\"files/Pics/L08_HighBias.png\" width=\"600\">"
   ]
  },
  {
   "cell_type": "markdown",
   "metadata": {},
   "source": [
    "Módosítsunk tehát a modellünkön, hogy jobb eredményt kapjunk."
   ]
  },
  {
   "cell_type": "markdown",
   "metadata": {},
   "source": [
    "# Poly Feature"
   ]
  },
  {
   "cell_type": "markdown",
   "metadata": {},
   "source": [
    "A jobb eredmény eléréséhez több bemeneti paraméterre lesz szükségünk. Több paraméter előállításának egy lehetséges módja, ha a rendelkezésre álló paraméter polinomiális együtthatóit képezzük és további paraméterekként betápláljuk a neurális hálónkba.\n",
    "\n",
    "Írjunk egy függvényt, amely megkapja bemenetként az aktuális mintákból álló mátrixot és feldúsítja azt a kívánt kitevőig a megfelelő oszlopokkal. $x => x, x^2, x^3 ... x^p$"
   ]
  },
  {
   "cell_type": "code",
   "execution_count": 7,
   "metadata": {},
   "outputs": [],
   "source": [
    "def polyFeatures(X,p=9):\n",
    "######################################################\n",
    "    m=X.shape[0]\n",
    "    X_poly = np.zeros((m,p))\n",
    "    \n",
    "    for i in range(1,m+1):\n",
    "        for j in range(1,p+1):\n",
    "            X_poly[i-1,j-1] = X[i-1]**j\n",
    "######################################################    \n",
    "    return X_poly"
   ]
  },
  {
   "cell_type": "markdown",
   "metadata": {},
   "source": [
    "Ne felejtsük el lenormálni az értékeket, mivel a nagy kitevőjű tagok ellenkező esetben nagyon eltorzítanák a tanulást. Írjuk meg a normalizáló függvényt, ami bemenetként egy mintamátrixot kap és a normalizált mátrix mellett vissza adja az átlagok és szórások értékéti is egy-egy vektor formájában."
   ]
  },
  {
   "cell_type": "code",
   "execution_count": 8,
   "metadata": {},
   "outputs": [],
   "source": [
    "def featureNormalize(X):\n",
    "######################################################   \n",
    "    avg = np.mean(X, axis = 0)\n",
    "    X_norm = X-avg\n",
    "    std = np.std(X_norm, axis = 0,ddof = 1)\n",
    "    X_norm = X_norm/std\n",
    "######################################################    \n",
    "    return X_norm,avg,std"
   ]
  },
  {
   "cell_type": "markdown",
   "metadata": {},
   "source": [
    "Végezzük el a polinomiális változó dúsítást és a normálást is. \n",
    "\n",
    "$\\color{red}{Fontos!}$\n",
    "\n",
    "Amire figyeljünk, hogy a tanítás során csak a tanító adatokból származó információt szeretnénk felhasználni. Ez azt jelenti, hogy a test és validációs adatok normalizálását is a teszt adatokból számolt átlaggal és szórással kell elvégeznünk. Ellenkező esetben olyan adatokat szivárogatnánk vissza az algoritmusnak, amivel eltorzíthatnánk a tanulás eredményét. A validációs és teszt adatiank így tényleg függetlenek maradnak és az algoritmus csak a tanító adatokból nyert információval dolgozhat."
   ]
  },
  {
   "cell_type": "code",
   "execution_count": 9,
   "metadata": {},
   "outputs": [
    {
     "name": "stdout",
     "output_type": "stream",
     "text": [
      "Expected Normalized Training Example for order=3 (approx.):\n",
      "[-0.362 -0.755  0.182 ]\n",
      "Normalized Training Example 1:\n",
      " [-0.36214078 -0.75508669  0.18222588 -0.70618991  0.30661792 -0.59087767\n",
      "  0.3445158  -0.50848117  0.35954927]\n"
     ]
    }
   ],
   "source": [
    "order=9\n",
    "\n",
    "# X:\n",
    "X_train_p = polyFeatures(X_train, order)                                # polynomial features\n",
    "X_train_pn, mu, sigma = featureNormalize(X_train_p)                     # feature normalization\n",
    "###################################################### \n",
    "# X_val:\n",
    "\n",
    "X_val_p = polyFeatures(X_val, order)\n",
    "X_val_pn = (X_val_p-mu)/sigma\n",
    "\n",
    "# X_TESZT:\n",
    "X_test_p = polyFeatures(X_test, order)\n",
    "X_test_pn = (X_test_p-mu)/sigma\n",
    "###################################################### \n",
    "\n",
    "print(\"\"\"Expected Normalized Training Example for order=3 (approx.):\n",
    "[-0.362 -0.755  0.182 ]\"\"\")\n",
    "print('Normalized Training Example 1:\\n',X_train_pn[0,:])"
   ]
  },
  {
   "cell_type": "markdown",
   "metadata": {},
   "source": [
    "Beállítjuk a szükséges paramétereket."
   ]
  },
  {
   "cell_type": "code",
   "execution_count": 10,
   "metadata": {},
   "outputs": [],
   "source": [
    "# Just Right Case\n",
    "Lambda = 0\n",
    "lr_rate = 0.01\n",
    "epoch = 100\n",
    "optim = optimizers.SGD(lr=lr_rate)"
   ]
  },
  {
   "cell_type": "markdown",
   "metadata": {},
   "source": [
    "Mivel növeltük a változóink számát ezért a modellünket is módosítanunk kell. A bemeneti rétegnek passzolnia kell a megnövelt bementi mátrixunk méretéhez, viszont továbbra is csak egy kimenetet szeretnénk.\n"
   ]
  },
  {
   "cell_type": "code",
   "execution_count": 11,
   "metadata": {},
   "outputs": [],
   "source": [
    "# building a linear stack of layers with the sequential model\n",
    "model2 = Sequential()\n",
    "###################################################### \n",
    "model2.add(Dense(order, input_shape=(order,), use_bias=True, kernel_regularizer=regularizers.l2(Lambda)))\n",
    "model2.add(Dense(1))\n",
    "###################################################### "
   ]
  },
  {
   "cell_type": "markdown",
   "metadata": {},
   "source": [
    "A modell architektúrájának kialakítás után a modelt lefordítjuk (compile) és definiáljuk a költség függvényt, valamit az optimizert. Itt is több lehetőség közül választhatunk, mint például az SGD vagy az ADAM."
   ]
  },
  {
   "cell_type": "code",
   "execution_count": 12,
   "metadata": {},
   "outputs": [
    {
     "name": "stdout",
     "output_type": "stream",
     "text": [
      "Train on 12 samples, validate on 21 samples\n",
      "Epoch 1/100\n",
      " - 0s - loss: 272.8830 - val_loss: 309.6862\n",
      "Epoch 2/100\n",
      " - 0s - loss: 269.5784 - val_loss: 305.3512\n",
      "Epoch 3/100\n",
      " - 0s - loss: 265.8645 - val_loss: 300.6464\n",
      "Epoch 4/100\n",
      " - 0s - loss: 262.0154 - val_loss: 295.6749\n",
      "Epoch 5/100\n",
      " - 0s - loss: 258.0985 - val_loss: 290.5688\n",
      "Epoch 6/100\n",
      " - 0s - loss: 254.1446 - val_loss: 285.3910\n",
      "Epoch 7/100\n",
      " - 0s - loss: 250.1691 - val_loss: 280.1696\n",
      "Epoch 8/100\n",
      " - 0s - loss: 246.1806 - val_loss: 274.9186\n",
      "Epoch 9/100\n",
      " - 0s - loss: 242.1852 - val_loss: 269.6428\n",
      "Epoch 10/100\n",
      " - 0s - loss: 238.1862 - val_loss: 264.3401\n",
      "Epoch 11/100\n",
      " - 0s - loss: 234.1845 - val_loss: 259.0028\n",
      "Epoch 12/100\n",
      " - 0s - loss: 230.1778 - val_loss: 253.6200\n",
      "Epoch 13/100\n",
      " - 0s - loss: 226.1616 - val_loss: 248.1799\n",
      "Epoch 14/100\n",
      " - 0s - loss: 222.1293 - val_loss: 242.6722\n",
      "Epoch 15/100\n",
      " - 0s - loss: 218.0736 - val_loss: 237.0889\n",
      "Epoch 16/100\n",
      " - 0s - loss: 213.9872 - val_loss: 231.4250\n",
      "Epoch 17/100\n",
      " - 0s - loss: 209.8635 - val_loss: 225.6786\n",
      "Epoch 18/100\n",
      " - 0s - loss: 205.6966 - val_loss: 219.8508\n",
      "Epoch 19/100\n",
      " - 0s - loss: 201.4819 - val_loss: 213.9450\n",
      "Epoch 20/100\n",
      " - 0s - loss: 197.2158 - val_loss: 207.9675\n",
      "Epoch 21/100\n",
      " - 0s - loss: 192.8959 - val_loss: 201.9267\n",
      "Epoch 22/100\n",
      " - 0s - loss: 188.5210 - val_loss: 195.8334\n",
      "Epoch 23/100\n",
      " - 0s - loss: 184.0911 - val_loss: 189.7003\n",
      "Epoch 24/100\n",
      " - 0s - loss: 179.6075 - val_loss: 183.5420\n",
      "Epoch 25/100\n",
      " - 0s - loss: 175.0722 - val_loss: 177.3744\n",
      "Epoch 26/100\n",
      " - 0s - loss: 170.4888 - val_loss: 171.2146\n",
      "Epoch 27/100\n",
      " - 0s - loss: 165.8615 - val_loss: 165.0810\n",
      "Epoch 28/100\n",
      " - 0s - loss: 161.1957 - val_loss: 158.9925\n",
      "Epoch 29/100\n",
      " - 0s - loss: 156.4974 - val_loss: 152.9690\n",
      "Epoch 30/100\n",
      " - 0s - loss: 151.7738 - val_loss: 147.0308\n",
      "Epoch 31/100\n",
      " - 0s - loss: 147.0324 - val_loss: 141.1988\n",
      "Epoch 32/100\n",
      " - 0s - loss: 142.2818 - val_loss: 135.4944\n",
      "Epoch 33/100\n",
      " - 0s - loss: 137.5310 - val_loss: 129.9392\n",
      "Epoch 34/100\n",
      " - 0s - loss: 132.7897 - val_loss: 124.5551\n",
      "Epoch 35/100\n",
      " - 0s - loss: 128.0681 - val_loss: 119.3644\n",
      "Epoch 36/100\n",
      " - 0s - loss: 123.3770 - val_loss: 114.3892\n",
      "Epoch 37/100\n",
      " - 0s - loss: 118.7274 - val_loss: 109.6514\n",
      "Epoch 38/100\n",
      " - 0s - loss: 114.1307 - val_loss: 105.1728\n",
      "Epoch 39/100\n",
      " - 0s - loss: 109.5983 - val_loss: 100.9743\n",
      "Epoch 40/100\n",
      " - 0s - loss: 105.1418 - val_loss: 97.0763\n",
      "Epoch 41/100\n",
      " - 0s - loss: 100.7725 - val_loss: 93.4975\n",
      "Epoch 42/100\n",
      " - 0s - loss: 96.5014 - val_loss: 90.2553\n",
      "Epoch 43/100\n",
      " - 0s - loss: 92.3389 - val_loss: 87.3648\n",
      "Epoch 44/100\n",
      " - 0s - loss: 88.2949 - val_loss: 84.8386\n",
      "Epoch 45/100\n",
      " - 0s - loss: 84.3782 - val_loss: 82.6863\n",
      "Epoch 46/100\n",
      " - 0s - loss: 80.5967 - val_loss: 80.9139\n",
      "Epoch 47/100\n",
      " - 0s - loss: 76.9569 - val_loss: 79.5235\n",
      "Epoch 48/100\n",
      " - 0s - loss: 73.4645 - val_loss: 78.5130\n",
      "Epoch 49/100\n",
      " - 0s - loss: 70.1234 - val_loss: 77.8755\n",
      "Epoch 50/100\n",
      " - 0s - loss: 66.9368 - val_loss: 77.5993\n",
      "Epoch 51/100\n",
      " - 0s - loss: 63.9063 - val_loss: 77.6680\n",
      "Epoch 52/100\n",
      " - 0s - loss: 61.0324 - val_loss: 78.0601\n",
      "Epoch 53/100\n",
      " - 0s - loss: 58.3148 - val_loss: 78.7493\n",
      "Epoch 54/100\n",
      " - 0s - loss: 55.7518 - val_loss: 79.7042\n",
      "Epoch 55/100\n",
      " - 0s - loss: 53.3409 - val_loss: 80.8893\n",
      "Epoch 56/100\n",
      " - 0s - loss: 51.0783 - val_loss: 82.2646\n",
      "Epoch 57/100\n",
      " - 0s - loss: 48.9591 - val_loss: 83.7865\n",
      "Epoch 58/100\n",
      " - 0s - loss: 46.9772 - val_loss: 85.4083\n",
      "Epoch 59/100\n",
      " - 0s - loss: 45.1251 - val_loss: 87.0814\n",
      "Epoch 60/100\n",
      " - 0s - loss: 43.3940 - val_loss: 88.7565\n",
      "Epoch 61/100\n",
      " - 0s - loss: 41.7740 - val_loss: 90.3854\n",
      "Epoch 62/100\n",
      " - 0s - loss: 40.2544 - val_loss: 91.9219\n",
      "Epoch 63/100\n",
      " - 0s - loss: 38.8241 - val_loss: 93.3239\n",
      "Epoch 64/100\n",
      " - 0s - loss: 37.4720 - val_loss: 94.5544\n",
      "Epoch 65/100\n",
      " - 0s - loss: 36.1875 - val_loss: 95.5820\n",
      "Epoch 66/100\n",
      " - 0s - loss: 34.9605 - val_loss: 96.3816\n",
      "Epoch 67/100\n",
      " - 0s - loss: 33.7822 - val_loss: 96.9345\n",
      "Epoch 68/100\n",
      " - 0s - loss: 32.6446 - val_loss: 97.2280\n",
      "Epoch 69/100\n",
      " - 0s - loss: 31.5413 - val_loss: 97.2552\n",
      "Epoch 70/100\n",
      " - 0s - loss: 30.4737 - val_loss: 97.0151\n",
      "Epoch 71/100\n",
      " - 0s - loss: 29.4227 - val_loss: 96.5114\n",
      "Epoch 72/100\n",
      " - 0s - loss: 28.3921 - val_loss: 95.7518\n",
      "Epoch 73/100\n",
      " - 0s - loss: 27.3793 - val_loss: 94.7480\n",
      "Epoch 74/100\n",
      " - 0s - loss: 26.3827 - val_loss: 93.5150\n",
      "Epoch 75/100\n",
      " - 0s - loss: 25.4013 - val_loss: 92.0702\n",
      "Epoch 76/100\n",
      " - 0s - loss: 24.4352 - val_loss: 90.4334\n",
      "Epoch 77/100\n",
      " - 0s - loss: 23.4850 - val_loss: 88.6258\n",
      "Epoch 78/100\n",
      " - 0s - loss: 22.5521 - val_loss: 86.6694\n",
      "Epoch 79/100\n",
      " - 0s - loss: 21.6381 - val_loss: 84.5868\n",
      "Epoch 80/100\n",
      " - 0s - loss: 20.7451 - val_loss: 82.4005\n",
      "Epoch 81/100\n",
      " - 0s - loss: 19.8751 - val_loss: 80.1325\n",
      "Epoch 82/100\n",
      " - 0s - loss: 19.0301 - val_loss: 77.8044\n",
      "Epoch 83/100\n",
      " - 0s - loss: 18.2121 - val_loss: 75.4364\n",
      "Epoch 84/100\n",
      " - 0s - loss: 17.4225 - val_loss: 73.0479\n",
      "Epoch 85/100\n",
      " - 0s - loss: 16.6628 - val_loss: 70.6568\n",
      "Epoch 86/100\n",
      " - 0s - loss: 15.9340 - val_loss: 68.2797\n",
      "Epoch 87/100\n",
      " - 0s - loss: 15.2368 - val_loss: 65.9320\n",
      "Epoch 88/100\n",
      " - 0s - loss: 14.5717 - val_loss: 63.6272\n",
      "Epoch 89/100\n",
      " - 0s - loss: 13.9391 - val_loss: 61.3774\n",
      "Epoch 90/100\n",
      " - 0s - loss: 13.3389 - val_loss: 59.1930\n",
      "Epoch 91/100\n",
      " - 0s - loss: 12.7708 - val_loss: 57.0829\n",
      "Epoch 92/100\n",
      " - 0s - loss: 12.2345 - val_loss: 55.0541\n",
      "Epoch 93/100\n",
      " - 0s - loss: 11.7291 - val_loss: 53.1119\n",
      "Epoch 94/100\n",
      " - 0s - loss: 11.2537 - val_loss: 51.2604\n",
      "Epoch 95/100\n",
      " - 0s - loss: 10.8073 - val_loss: 49.5019\n",
      "Epoch 96/100\n",
      " - 0s - loss: 10.3887 - val_loss: 47.8376\n",
      "Epoch 97/100\n",
      " - 0s - loss: 9.9966 - val_loss: 46.2674\n",
      "Epoch 98/100\n",
      " - 0s - loss: 9.6298 - val_loss: 44.7903\n",
      "Epoch 99/100\n",
      " - 0s - loss: 9.2869 - val_loss: 43.4044\n",
      "Epoch 100/100\n",
      " - 0s - loss: 8.9667 - val_loss: 42.1071\n"
     ]
    }
   ],
   "source": [
    "# compiling the sequential model\n",
    "#optim = optimizers.SGD(lr=lr_rate)\n",
    "optim = optimizers.Adam(lr=lr_rate)\n",
    "model2.compile(loss='MSE', optimizer=optim)\n",
    "\n",
    "# training the model and saving metrics in history\n",
    "history2 = model2.fit(X_train_pn, Y_train, epochs=epoch, validation_data=(X_val_pn, Y_val), verbose = 2)"
   ]
  },
  {
   "cell_type": "markdown",
   "metadata": {},
   "source": [
    "A modell tanítását követően végezzük ez a predikciót a teszt adatainkon."
   ]
  },
  {
   "cell_type": "code",
   "execution_count": 13,
   "metadata": {},
   "outputs": [],
   "source": [
    "###################################################### \n",
    "Y_pred2 = model2.predict(X_test_pn)\n",
    "###################################################### "
   ]
  },
  {
   "cell_type": "markdown",
   "metadata": {},
   "source": [
    "Rajzoltassuk is ki a predikció eredményét."
   ]
  },
  {
   "cell_type": "code",
   "execution_count": 14,
   "metadata": {},
   "outputs": [
    {
     "data": {
      "image/png": "[encoded data removed]",
      "text/plain": [
       "<Figure size 432x288 with 1 Axes>"
      ]
     },
     "metadata": {
      "needs_background": "light"
     },
     "output_type": "display_data"
    }
   ],
   "source": [
    "#plt.plot(X_train,Y_train,'x')   # adatok megjelenítése\n",
    "plt.plot(X_test,Y_pred2,'x', color=\"red\") \n",
    "plt.plot(X_test,Y_test,'x', color=\"green\") \n",
    "plt.title('Training data')\n",
    "plt.xlabel('Change in water level (X)')\n",
    "plt.ylabel('Water floeing out of the dam (Y)')\n",
    "plt.legend(['Prediction', 'Test'])\n",
    "plt.show()"
   ]
  },
  {
   "cell_type": "markdown",
   "metadata": {},
   "source": [
    "Láthatjuk, hogy a bővített modellel sokkal jobb eredményt kaptunk, ami sokkal jobban illeszkedik az adatainkra. Az eredmény a metrikákban is tükröződik."
   ]
  },
  {
   "cell_type": "code",
   "execution_count": 15,
   "metadata": {},
   "outputs": [
    {
     "data": {
      "text/plain": [
       "<matplotlib.legend.Legend at 0x216464486d8>"
      ]
     },
     "execution_count": 15,
     "metadata": {},
     "output_type": "execute_result"
    },
    {
     "data": {
      "image/png": "[encoded data removed]",
      "text/plain": [
       "<Figure size 432x288 with 1 Axes>"
      ]
     },
     "metadata": {
      "needs_background": "light"
     },
     "output_type": "display_data"
    }
   ],
   "source": [
    "# plotting the metrics\n",
    "fig = plt.figure()\n",
    "plt.plot(history2.history['loss'])\n",
    "plt.plot(history2.history['val_loss'])\n",
    "plt.title('Loss functions')\n",
    "plt.ylabel('loss')\n",
    "plt.xlabel('epoch')\n",
    "plt.legend(['Train loss', 'Validation loss'])"
   ]
  },
  {
   "cell_type": "markdown",
   "metadata": {},
   "source": [
    "A tanító adatink költség függvénye és a validációs adataink költség függvénye is lényegesen alacsonyabb értéket ért el, mint az első próbálkozásunk alkalmavál.\n",
    "<img src=\"files/Pics/L08_HighBias.png\" width=\"600\">"
   ]
  },
  {
   "cell_type": "markdown",
   "metadata": {},
   "source": [
    "Bővíthetjük tovább a modellünket, illetve hangolhatjuk a hiper paramétereket, de vigyázzunk, nehogy a túl tanulás hibájába essünk, mint az alábbi modell esetében.\n",
    "\n",
    "Esetünkben túl sok bemeneti paraméter választottunk és így futtattuk a tanítást."
   ]
  },
  {
   "cell_type": "code",
   "execution_count": 16,
   "metadata": {},
   "outputs": [],
   "source": [
    "#Overfit\n",
    "Lambda = 0\n",
    "lr_rate = 0.001\n",
    "epoch = 100\n",
    "order=12\n",
    "optim = optimizers.Adam(lr=lr_rate)"
   ]
  },
  {
   "cell_type": "code",
   "execution_count": 17,
   "metadata": {},
   "outputs": [],
   "source": [
    "# X:\n",
    "X_train_p = polyFeatures(X_train, order)                                # polynomial features\n",
    "X_train_pn, mu, sigma = featureNormalize(X_train_p)                     # feature normalization\n",
    "\n",
    "# X_val:\n",
    "X_val_p = polyFeatures(X_val, order)\n",
    "X_val_pn = (X_val_p-mu)/sigma\n",
    "\n",
    "# X_TESZT:\n",
    "X_test_p = polyFeatures(X_test, order)\n",
    "X_test_pn = (X_test_p-mu)/sigma"
   ]
  },
  {
   "cell_type": "code",
   "execution_count": 18,
   "metadata": {},
   "outputs": [],
   "source": [
    "# building a linear stack of layers with the sequential model\n",
    "model3 = Sequential()\n",
    "model3.add(Dense(order, input_shape=(order,), use_bias=True, kernel_regularizer=regularizers.l2(Lambda)))\n",
    "model3.add(Dense(1))"
   ]
  },
  {
   "cell_type": "code",
   "execution_count": 19,
   "metadata": {},
   "outputs": [
    {
     "name": "stdout",
     "output_type": "stream",
     "text": [
      "Train on 12 samples, validate on 21 samples\n",
      "Epoch 1/100\n",
      " - 0s - loss: 276.4300 - val_loss: 321.6675\n",
      "Epoch 2/100\n",
      " - 0s - loss: 271.6718 - val_loss: 316.1202\n",
      "Epoch 3/100\n",
      " - 0s - loss: 267.1379 - val_loss: 310.7780\n",
      "Epoch 4/100\n",
      " - 0s - loss: 262.7841 - val_loss: 305.5963\n",
      "Epoch 5/100\n",
      " - 0s - loss: 258.5741 - val_loss: 300.5382\n",
      "Epoch 6/100\n",
      " - 0s - loss: 254.4780 - val_loss: 295.5725\n",
      "Epoch 7/100\n",
      " - 0s - loss: 250.4704 - val_loss: 290.6731\n",
      "Epoch 8/100\n",
      " - 0s - loss: 246.5305 - val_loss: 285.8172\n",
      "Epoch 9/100\n",
      " - 0s - loss: 242.6401 - val_loss: 280.9855\n",
      "Epoch 10/100\n",
      " - 0s - loss: 238.7839 - val_loss: 276.1612\n",
      "Epoch 11/100\n",
      " - 0s - loss: 234.9482 - val_loss: 271.3295\n",
      "Epoch 12/100\n",
      " - 0s - loss: 231.1216 - val_loss: 266.4775\n",
      "Epoch 13/100\n",
      " - 0s - loss: 227.2936 - val_loss: 261.5939\n",
      "Epoch 14/100\n",
      " - 0s - loss: 223.4551 - val_loss: 256.6686\n",
      "Epoch 15/100\n",
      " - 0s - loss: 219.5981 - val_loss: 251.6930\n",
      "Epoch 16/100\n",
      " - 0s - loss: 215.7154 - val_loss: 246.6595\n",
      "Epoch 17/100\n",
      " - 0s - loss: 211.8006 - val_loss: 241.5614\n",
      "Epoch 18/100\n",
      " - 0s - loss: 207.8479 - val_loss: 236.3933\n",
      "Epoch 19/100\n",
      " - 0s - loss: 203.8525 - val_loss: 231.1507\n",
      "Epoch 20/100\n",
      " - 0s - loss: 199.8100 - val_loss: 225.8301\n",
      "Epoch 21/100\n",
      " - 0s - loss: 195.7167 - val_loss: 220.4290\n",
      "Epoch 22/100\n",
      " - 0s - loss: 191.5695 - val_loss: 214.9460\n",
      "Epoch 23/100\n",
      " - 0s - loss: 187.3663 - val_loss: 209.3808\n",
      "Epoch 24/100\n",
      " - 0s - loss: 183.1052 - val_loss: 203.7343\n",
      "Epoch 25/100\n",
      " - 0s - loss: 178.7855 - val_loss: 198.0083\n",
      "Epoch 26/100\n",
      " - 0s - loss: 174.4068 - val_loss: 192.2061\n",
      "Epoch 27/100\n",
      " - 0s - loss: 169.9699 - val_loss: 186.3321\n",
      "Epoch 28/100\n",
      " - 0s - loss: 165.4761 - val_loss: 180.3921\n",
      "Epoch 29/100\n",
      " - 0s - loss: 160.9277 - val_loss: 174.3928\n",
      "Epoch 30/100\n",
      " - 0s - loss: 156.3277 - val_loss: 168.3426\n",
      "Epoch 31/100\n",
      " - 0s - loss: 151.6802 - val_loss: 162.2509\n",
      "Epoch 32/100\n",
      " - 0s - loss: 146.9900 - val_loss: 156.1285\n",
      "Epoch 33/100\n",
      " - 0s - loss: 142.2628 - val_loss: 149.9873\n",
      "Epoch 34/100\n",
      " - 0s - loss: 137.5052 - val_loss: 143.8403\n",
      "Epoch 35/100\n",
      " - 0s - loss: 132.7246 - val_loss: 137.7014\n",
      "Epoch 36/100\n",
      " - 0s - loss: 127.9290 - val_loss: 131.5856\n",
      "Epoch 37/100\n",
      " - 0s - loss: 123.1273 - val_loss: 125.5085\n",
      "Epoch 38/100\n",
      " - 0s - loss: 118.3291 - val_loss: 119.4864\n",
      "Epoch 39/100\n",
      " - 0s - loss: 113.5444 - val_loss: 113.5360\n",
      "Epoch 40/100\n",
      " - 0s - loss: 108.7837 - val_loss: 107.6741\n",
      "Epoch 41/100\n",
      " - 0s - loss: 104.0578 - val_loss: 101.9176\n",
      "Epoch 42/100\n",
      " - 0s - loss: 99.3777 - val_loss: 96.2831\n",
      "Epoch 43/100\n",
      " - 0s - loss: 94.7547 - val_loss: 90.7869\n",
      "Epoch 44/100\n",
      " - 0s - loss: 90.1997 - val_loss: 85.4446\n",
      "Epoch 45/100\n",
      " - 0s - loss: 85.7236 - val_loss: 80.2709\n",
      "Epoch 46/100\n",
      " - 0s - loss: 81.3370 - val_loss: 75.2795\n",
      "Epoch 47/100\n",
      " - 0s - loss: 77.0501 - val_loss: 70.4826\n",
      "Epoch 48/100\n",
      " - 0s - loss: 72.8723 - val_loss: 65.8914\n",
      "Epoch 49/100\n",
      " - 0s - loss: 68.8124 - val_loss: 61.5153\n",
      "Epoch 50/100\n",
      " - 0s - loss: 64.8785 - val_loss: 57.3620\n",
      "Epoch 51/100\n",
      " - 0s - loss: 61.0777 - val_loss: 53.4376\n",
      "Epoch 52/100\n",
      " - 0s - loss: 57.4163 - val_loss: 49.7465\n",
      "Epoch 53/100\n",
      " - 0s - loss: 53.8993 - val_loss: 46.2911\n",
      "Epoch 54/100\n",
      " - 0s - loss: 50.5310 - val_loss: 43.0722\n",
      "Epoch 55/100\n",
      " - 0s - loss: 47.3143 - val_loss: 40.0888\n",
      "Epoch 56/100\n",
      " - 0s - loss: 44.2514 - val_loss: 37.3384\n",
      "Epoch 57/100\n",
      " - 0s - loss: 41.3433 - val_loss: 34.8168\n",
      "Epoch 58/100\n",
      " - 0s - loss: 38.5899 - val_loss: 32.5184\n",
      "Epoch 59/100\n",
      " - 0s - loss: 35.9903 - val_loss: 30.4365\n",
      "Epoch 60/100\n",
      " - 0s - loss: 33.5426 - val_loss: 28.5630\n",
      "Epoch 61/100\n",
      " - 0s - loss: 31.2442 - val_loss: 26.8892\n",
      "Epoch 62/100\n",
      " - 0s - loss: 29.0917 - val_loss: 25.4054\n",
      "Epoch 63/100\n",
      " - 0s - loss: 27.0811 - val_loss: 24.1012\n",
      "Epoch 64/100\n",
      " - 0s - loss: 25.2077 - val_loss: 22.9658\n",
      "Epoch 65/100\n",
      " - 0s - loss: 23.4665 - val_loss: 21.9882\n",
      "Epoch 66/100\n",
      " - 0s - loss: 21.8520 - val_loss: 21.1571\n",
      "Epoch 67/100\n",
      " - 0s - loss: 20.3584 - val_loss: 20.4611\n",
      "Epoch 68/100\n",
      " - 0s - loss: 18.9798 - val_loss: 19.8892\n",
      "Epoch 69/100\n",
      " - 0s - loss: 17.7101 - val_loss: 19.4303\n",
      "Epoch 70/100\n",
      " - 0s - loss: 16.5431 - val_loss: 19.0737\n",
      "Epoch 71/100\n",
      " - 0s - loss: 15.4727 - val_loss: 18.8091\n",
      "Epoch 72/100\n",
      " - 0s - loss: 14.4926 - val_loss: 18.6266\n",
      "Epoch 73/100\n",
      " - 0s - loss: 13.5969 - val_loss: 18.5169\n",
      "Epoch 74/100\n",
      " - 0s - loss: 12.7797 - val_loss: 18.4710\n",
      "Epoch 75/100\n",
      " - 0s - loss: 12.0354 - val_loss: 18.4808\n",
      "Epoch 76/100\n",
      " - 0s - loss: 11.3585 - val_loss: 18.5384\n",
      "Epoch 77/100\n",
      " - 0s - loss: 10.7437 - val_loss: 18.6368\n",
      "Epoch 78/100\n",
      " - 0s - loss: 10.1862 - val_loss: 18.7695\n",
      "Epoch 79/100\n",
      " - 0s - loss: 9.6811 - val_loss: 18.9304\n",
      "Epoch 80/100\n",
      " - 0s - loss: 9.2242 - val_loss: 19.1142\n",
      "Epoch 81/100\n",
      " - 0s - loss: 8.8111 - val_loss: 19.3159\n",
      "Epoch 82/100\n",
      " - 0s - loss: 8.4382 - val_loss: 19.5313\n",
      "Epoch 83/100\n",
      " - 0s - loss: 8.1016 - val_loss: 19.7564\n",
      "Epoch 84/100\n",
      " - 0s - loss: 7.7982 - val_loss: 19.9878\n",
      "Epoch 85/100\n",
      " - 0s - loss: 7.5247 - val_loss: 20.2225\n",
      "Epoch 86/100\n",
      " - 0s - loss: 7.2784 - val_loss: 20.4579\n",
      "Epoch 87/100\n",
      " - 0s - loss: 7.0566 - val_loss: 20.6918\n",
      "Epoch 88/100\n",
      " - 0s - loss: 6.8570 - val_loss: 20.9221\n",
      "Epoch 89/100\n",
      " - 0s - loss: 6.6773 - val_loss: 21.1474\n",
      "Epoch 90/100\n",
      " - 0s - loss: 6.5155 - val_loss: 21.3662\n",
      "Epoch 91/100\n",
      " - 0s - loss: 6.3698 - val_loss: 21.5775\n",
      "Epoch 92/100\n",
      " - 0s - loss: 6.2386 - val_loss: 21.7803\n",
      "Epoch 93/100\n",
      " - 0s - loss: 6.1203 - val_loss: 21.9740\n",
      "Epoch 94/100\n",
      " - 0s - loss: 6.0137 - val_loss: 22.1581\n",
      "Epoch 95/100\n",
      " - 0s - loss: 5.9174 - val_loss: 22.3321\n",
      "Epoch 96/100\n",
      " - 0s - loss: 5.8305 - val_loss: 22.4958\n",
      "Epoch 97/100\n",
      " - 0s - loss: 5.7518 - val_loss: 22.6492\n",
      "Epoch 98/100\n",
      " - 0s - loss: 5.6806 - val_loss: 22.7921\n",
      "Epoch 99/100\n",
      " - 0s - loss: 5.6159 - val_loss: 22.9246\n",
      "Epoch 100/100\n",
      " - 0s - loss: 5.5571 - val_loss: 23.0468\n"
     ]
    }
   ],
   "source": [
    "# compiling the sequential model\n",
    "optim = optimizers.SGD(lr=lr_rate)\n",
    "model3.compile(loss='MSE', optimizer=optim)\n",
    "\n",
    "# training the model and saving metrics in history\n",
    "history3 = model3.fit(X_train_pn, Y_train, epochs=epoch, validation_data=(X_val_pn, Y_val), verbose = 2)"
   ]
  },
  {
   "cell_type": "code",
   "execution_count": 20,
   "metadata": {},
   "outputs": [],
   "source": [
    "Y_pred3 = model3.predict(X_test_pn)"
   ]
  },
  {
   "cell_type": "code",
   "execution_count": 21,
   "metadata": {},
   "outputs": [
    {
     "data": {
      "image/png": "[encoded data removed]",
      "text/plain": [
       "<Figure size 432x288 with 1 Axes>"
      ]
     },
     "metadata": {
      "needs_background": "light"
     },
     "output_type": "display_data"
    }
   ],
   "source": [
    "plt.plot(X_test,Y_pred3,'x', color=\"red\") \n",
    "plt.plot(X_test,Y_test,'x', color=\"green\") \n",
    "plt.title('Training data')\n",
    "plt.xlabel('Change in water level (X)')\n",
    "plt.ylabel('Water floeing out of the dam (Y)')\n",
    "plt.legend(['Prediction', 'Test'])\n",
    "plt.show()"
   ]
  },
  {
   "cell_type": "code",
   "execution_count": 22,
   "metadata": {},
   "outputs": [
    {
     "data": {
      "text/plain": [
       "<matplotlib.legend.Legend at 0x2164775d278>"
      ]
     },
     "execution_count": 22,
     "metadata": {},
     "output_type": "execute_result"
    },
    {
     "data": {
      "image/png": "[encoded data removed]",
      "text/plain": [
       "<Figure size 432x288 with 1 Axes>"
      ]
     },
     "metadata": {
      "needs_background": "light"
     },
     "output_type": "display_data"
    }
   ],
   "source": [
    "# plotting the metrics\n",
    "fig = plt.figure()\n",
    "plt.plot(history3.history['loss'])\n",
    "plt.plot(history3.history['val_loss'])\n",
    "plt.title('Loss functions')\n",
    "plt.ylabel('loss')\n",
    "plt.xlabel('epoch')\n",
    "plt.legend(['Train loss', 'Validation loss'])"
   ]
  },
  {
   "cell_type": "markdown",
   "metadata": {},
   "source": [
    "Látható, hogy a a modell túlságpsan rátanul a tanító mintákra és a 60. epoch után a tanító minták költségfüggvénye ugyan tovább csökken, viszont a validációs mintákon elért eredmény elkezd romlani. Ez azt jelenti, hogy bár a tanító minták költség függvénye bőven egy elvárt szint alatt teljesít, a validációs és teszt minták költség függvénye magasan az elvárt eredmény fölött lesz. \"Nyílik az olló\", nagy lesz a különbség a két költségfüggvény között.\n",
    "<img src=\"files/Pics/L08_HighVariance.png\" width=\"600\">"
   ]
  },
  {
   "cell_type": "markdown",
   "metadata": {},
   "source": [
    "### Összefoglalva néhány tipp a különböző hibák kezelésére\n",
    "\n",
    "Alul tanulás (\"Underfitting\", High Bias probléma) esetén:\n",
    "- Több bemeneti paraméter hozzáadás a modellhez (akár független akar polinomiális).\n",
    "- $\\lambda$ paraméter csökkentése, azaz kevésbé büntetjük.\n",
    "- Epoch szám növelése.\n",
    "- $\\alpha$ (tanulási ráta, learning rate) növelése.\n",
    "\n",
    "Túl tanulás (\"Overfitting\", HighVariance probléma) esetén:\n",
    "- Kevesebb bemeneti paraméter.\n",
    "- $\\lambda$ paraméter növelése, azaz jobban büntetjük.\n",
    "- Több tanuló minta.\n",
    "- $\\alpha$ (tanulási ráta, learning rate) csökkentése."
   ]
  },
  {
   "cell_type": "markdown",
   "metadata": {},
   "source": [
    "<div style=\"text-align: right\">Ez a laborgyakorlat felhasznál elemeket Andrew Ng Machine Learning c. kurzusából.</div>"
   ]
  }
 ],
 "metadata": {
  "kernelspec": {
   "display_name": "Python 3",
   "language": "python",
   "name": "python3"
  },
  "language_info": {
   "codemirror_mode": {
    "name": "ipython",
    "version": 3
   },
   "file_extension": ".py",
   "mimetype": "text/x-python",
   "name": "python",
   "nbconvert_exporter": "python",
   "pygments_lexer": "ipython3",
   "version": "3.7.7"
  }
 },
 "nbformat": 4,
 "nbformat_minor": 2
}
