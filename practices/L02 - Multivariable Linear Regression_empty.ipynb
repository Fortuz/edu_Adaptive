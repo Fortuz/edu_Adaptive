{
 "cells": [
  {
   "cell_type": "markdown",
   "metadata": {},
   "source": [
    "<img src=\"files/Pics/LOGOS.png\" width=\"800\">"
   ]
  },
  {
   "cell_type": "markdown",
   "metadata": {},
   "source": [
    "# Labor 02: Többváltozós lineáris regresszió\n",
    "\n",
    "A gyakorlat során a L01-es laboron bevezetett egyváltozós modellónket fogjuk bővíteni több változós esetre.\n",
    "\n",
    "### Ingatlanárak:\n",
    "\n",
    "Ebben a feladatban ingatlanárak becslésére fogunk többváltozós lineáris regressziót implementálni.\n",
    "\n",
    "Tegyük fel, hogy egy lakást szeretnénk eladni, ám ehhez szeretnénk tudni a lakás valós értékét, hogy ne veszítsünk az eladáskor. Egy lehetséges módja ennek, hogy adatot gyűjtve, majd az adatok alapján modellt készítve, becsüljük meg a lakás ingatlanpiaci árát. Adataink az ingatlan területe ($m^2$) és a szobák száma (db), illetve az értékesítéskor meghatározott ár ($) lesz."
   ]
  },
  {
   "cell_type": "markdown",
   "metadata": {},
   "source": [
    "### 1: Importjáljuk be a számunkra fontos csomagokat!\n",
    "Szükségünk lesz:\n",
    "- NumPy -ra a tömbkezeléshez\n",
    "- MatPlotLib pyplot csomagjára a megjelenítéshez\n",
    "- Pandas -ra az adatbeolvasáshoz"
   ]
  },
  {
   "cell_type": "code",
   "execution_count": 1,
   "metadata": {},
   "outputs": [],
   "source": [
    "import numpy as np\n",
    "import matplotlib.pyplot as plt\n",
    "import pandas as pd"
   ]
  },
  {
   "cell_type": "markdown",
   "metadata": {},
   "source": [
    "Töltsük be az adatainkat! Használjuk ehhez a Pandas csomagot majd alakítsuk numpy tömbbé."
   ]
  },
  {
   "cell_type": "code",
   "execution_count": 2,
   "metadata": {},
   "outputs": [
    {
     "name": "stdout",
     "output_type": "stream",
     "text": [
      "X: (47, 2)\n",
      "Y: (47, 1)\n",
      "Adatok száma 47\n"
     ]
    }
   ],
   "source": [
    "data = pd.read_csv('Lab2data.txt',header = None).to_numpy()    # adatok beolvasása és NumPy tömbbé alakítása\n",
    "X = data[:,0:2]                                                # X rendezése\n",
    "m = X.shape[0]                                                 # adatok száma\n",
    "Y = data[:,2].reshape(m,1)                                     # Y rendezése oszlopvektorba\n",
    "\n",
    "print('X:',X.shape)                                            # adattömbök méretének / adatok számának kiírása\n",
    "print('Y:',Y.shape)\n",
    "print('Adatok száma',m)"
   ]
  },
  {
   "cell_type": "markdown",
   "metadata": {},
   "source": [
    "### 2: Normalizáljuk az értékeinket (feature scaling & mean normalization)\n",
    "\n",
    "Az adatainkról elképzelhető, hogy más nagyságrendekben találhatóak. Esetünkben az ingatlan területe és a szobák száma között könnyen beláthatjuk, hogy legalább egy nagyságrendi különbség van. Ilyenkor érdemes az értékeinket normalizálni, hogy egy nagyságrendbe essenek és minden bemeneti változó a [-1..1] vagy [0..1] intervallumban mozogjon. Ez a művelet a konvergenciát fogja elősegíteni, mivel nem lesz dominánsan jelen lévő változó, ami elnyomhatná a többi változó hatását. <br>\n",
    "Ehhez mi az alábbi összefüggést fogjuk használni (Feature scaling and Mean normalization):\n",
    "\n",
    "$ x = \\frac{x - mean(x)}{std(x)} $\n",
    "\n",
    ", vagyis egy adott mintából kivonjuk a minták átlagát (mean normalization) és leosztjuk a minták szórásával (feature scaling).\n",
    "\n",
    "Grafikusan elképzelve az origó körül könnyebben megtaláljuk azt az egyenest, ami a hipotézisünknek megfelelően lefedi az adatainkat. Célszerű tehát az adatainkat ebbe a régióba trasformálni."
   ]
  },
  {
   "cell_type": "markdown",
   "metadata": {},
   "source": [
    "<img src=\"files/Pics/L02_Scaling.png\" width=\"250\">"
   ]
  },
  {
   "cell_type": "markdown",
   "metadata": {},
   "source": [
    "Hozzuk létre a normalizáló függvényt!"
   ]
  },
  {
   "cell_type": "code",
   "execution_count": 3,
   "metadata": {},
   "outputs": [
    {
     "name": "stdout",
     "output_type": "stream",
     "text": [
      "Normalizing X vector ...\n"
     ]
    },
    {
     "ename": "NameError",
     "evalue": "name 'X_norm' is not defined",
     "output_type": "error",
     "traceback": [
      "\u001b[1;31m---------------------------------------------------------------------------\u001b[0m",
      "\u001b[1;31mNameError\u001b[0m                                 Traceback (most recent call last)",
      "\u001b[1;32m<ipython-input-3-6b68e2bf83b3>\u001b[0m in \u001b[0;36m<module>\u001b[1;34m\u001b[0m\n\u001b[0;32m      9\u001b[0m \u001b[1;33m\u001b[0m\u001b[0m\n\u001b[0;32m     10\u001b[0m \u001b[0mprint\u001b[0m\u001b[1;33m(\u001b[0m\u001b[1;34m'Normalizing X vector ...'\u001b[0m\u001b[1;33m)\u001b[0m\u001b[1;33m\u001b[0m\u001b[1;33m\u001b[0m\u001b[0m\n\u001b[1;32m---> 11\u001b[1;33m \u001b[0mX_norm\u001b[0m\u001b[1;33m,\u001b[0m\u001b[0mavg\u001b[0m\u001b[1;33m,\u001b[0m\u001b[0msigma\u001b[0m \u001b[1;33m=\u001b[0m \u001b[0mfeatureNormalize\u001b[0m\u001b[1;33m(\u001b[0m\u001b[0mX\u001b[0m\u001b[1;33m)\u001b[0m                  \u001b[1;31m# Normalizálás\u001b[0m\u001b[1;33m\u001b[0m\u001b[1;33m\u001b[0m\u001b[0m\n\u001b[0m\u001b[0;32m     12\u001b[0m \u001b[0mX_norm\u001b[0m\u001b[1;33m=\u001b[0m\u001b[0mnp\u001b[0m\u001b[1;33m.\u001b[0m\u001b[0mcolumn_stack\u001b[0m\u001b[1;33m(\u001b[0m\u001b[1;33m(\u001b[0m\u001b[0mnp\u001b[0m\u001b[1;33m.\u001b[0m\u001b[0mones\u001b[0m\u001b[1;33m(\u001b[0m\u001b[0mm\u001b[0m\u001b[1;33m)\u001b[0m\u001b[1;33m,\u001b[0m\u001b[0mX_norm\u001b[0m\u001b[1;33m)\u001b[0m\u001b[1;33m)\u001b[0m             \u001b[1;31m# bias hozzáadása\u001b[0m\u001b[1;33m\u001b[0m\u001b[1;33m\u001b[0m\u001b[0m\n",
      "\u001b[1;32m<ipython-input-3-6b68e2bf83b3>\u001b[0m in \u001b[0;36mfeatureNormalize\u001b[1;34m(X)\u001b[0m\n\u001b[0;32m      6\u001b[0m \u001b[1;33m\u001b[0m\u001b[0m\n\u001b[0;32m      7\u001b[0m \u001b[1;31m######################################################\u001b[0m\u001b[1;33m\u001b[0m\u001b[1;33m\u001b[0m\u001b[1;33m\u001b[0m\u001b[0m\n\u001b[1;32m----> 8\u001b[1;33m     \u001b[1;32mreturn\u001b[0m \u001b[0mX_norm\u001b[0m\u001b[1;33m,\u001b[0m \u001b[0mavg\u001b[0m\u001b[1;33m,\u001b[0m \u001b[0msigma\u001b[0m                            \u001b[1;31m# képlet alapján eredmény visszaadása\u001b[0m\u001b[1;33m\u001b[0m\u001b[1;33m\u001b[0m\u001b[0m\n\u001b[0m\u001b[0;32m      9\u001b[0m \u001b[1;33m\u001b[0m\u001b[0m\n\u001b[0;32m     10\u001b[0m \u001b[0mprint\u001b[0m\u001b[1;33m(\u001b[0m\u001b[1;34m'Normalizing X vector ...'\u001b[0m\u001b[1;33m)\u001b[0m\u001b[1;33m\u001b[0m\u001b[1;33m\u001b[0m\u001b[0m\n",
      "\u001b[1;31mNameError\u001b[0m: name 'X_norm' is not defined"
     ]
    }
   ],
   "source": [
    "def featureNormalize(X):\n",
    "######################################################    \n",
    "    \n",
    "    \n",
    "    \n",
    "    \n",
    "######################################################\n",
    "    return X_norm, avg, sigma                            # képlet alapján eredmény visszaadása\n",
    "\n",
    "print('Normalizing X vector ...')                       \n",
    "X_norm,avg,sigma = featureNormalize(X)                  # Normalizálás\n",
    "X_norm=np.column_stack((np.ones(m),X_norm))             # bias hozzáadása"
   ]
  },
  {
   "cell_type": "markdown",
   "metadata": {},
   "source": [
    "Normalizálás után a bemeneti X mátrixhoz a BIAS tagokat is hozzáfűzzük."
   ]
  },
  {
   "cell_type": "markdown",
   "metadata": {},
   "source": [
    "### 3: Gradiens módszer\n",
    "Az előző gyakorlat mintájára létrehozzuk a gradiens módszert több változós formába! Adat struktúránk a következő képpen alakul.\n",
    "<img src=\"files/Pics/L02_Matrixok.png\" width=\"500\">"
   ]
  },
  {
   "cell_type": "markdown",
   "metadata": {},
   "source": [
    "Hipotézis függvényünk több változós esetre a következő képpen írható fel:\n",
    "\n",
    "$ h_{w}(x)=w_0x_0+w_1x_1+w_2x_2+ ... +w_nx_n $ <br>\n",
    "\n",
    "Mátrix műveletekkel pedig:"
   ]
  },
  {
   "cell_type": "markdown",
   "metadata": {},
   "source": [
    "<img src=\"files/Pics/L02_XW.png\" width=\"550\">"
   ]
  },
  {
   "cell_type": "markdown",
   "metadata": {},
   "source": [
    "A költség függvény képlete: <br>\n",
    "\n",
    "$ C(W)=C(w_0,w_1,...,w_n)=\\frac{1}{2m}\\sum_{i=1}^{m}(h_w(x^i)-y^i)^2 $\n",
    "\n",
    "Tipp: Programozás során érdemes kihasználni\n",
    "\n",
    "<img src=\"files/Pics/L02_Sum.png\" width=\"550\">\n",
    "\n",
    "A gradiens módszer általános súlyfrissítési képlete:\n",
    "\n",
    "$ \\color{red}{(j=0...n)}\\hspace{7mm} w_j:=w_j-\\mu\\frac{1}{2m}\\sum_{i=1}^{m}((h_w(x^i)-y^i)\\cdot x_j^i) $\n",
    "\n",
    "$\\color{red}{A\\ szimultán\\ frissítésre\\ figyelni\\ kell!}$"
   ]
  },
  {
   "cell_type": "code",
   "execution_count": null,
   "metadata": {},
   "outputs": [],
   "source": [
    "# Költségfüggvény\n",
    "def computeCostMulti(X,Y,W):\n",
    "#############################################     \n",
    "   \n",
    "    \n",
    "############################################# \n",
    "    return C"
   ]
  },
  {
   "cell_type": "code",
   "execution_count": null,
   "metadata": {},
   "outputs": [],
   "source": [
    "# Grádiens módszer\n",
    "def gradientDescentMulti(X,Y,W,lr,epochs):              \n",
    "#############################################    \n",
    "    \n",
    "    \n",
    "    \n",
    "    \n",
    "    \n",
    "    \n",
    "    \n",
    "    \n",
    "############################################# \n",
    "    return W, C_history"
   ]
  },
  {
   "cell_type": "code",
   "execution_count": null,
   "metadata": {},
   "outputs": [],
   "source": [
    "print('Running gradient descent ...')\n",
    "lr = 0.015                                                  # tanulási ráta\n",
    "epochs = 1200                                               # epoch szám\n",
    "W=np.zeros((3,1))                                           # kezdeti súly (0;0;0)\n",
    "W,C_history= gradientDescentMulti(X_norm,Y,W,lr,epochs)     # Grádiens módszer használata\n",
    "print('''Weights expected from gradient descent (approx.):\n",
    "[[340372.05039403]\n",
    " [109434.51046856]\n",
    " [ -5454.97874429 ]]\n",
    "''')\n",
    "print('Weights computed from gradient descent:\\n', W)\n",
    "\n",
    "if int(W[0]) == 340412 and int(W[1]) == 110607 and int(W[2]) == -6625:\n",
    "    print(\"\\n A gradientDescentMulti() függvény megfelelő. Tovább mehet.\")\n",
    "else:\n",
    "    print(\"\\n Valami nem stimmel. Korrekció szükséges!\")"
   ]
  },
  {
   "cell_type": "markdown",
   "metadata": {},
   "source": [
    "Ellenőrizzük a konvergenciát egy ábra segítségével!"
   ]
  },
  {
   "cell_type": "code",
   "execution_count": null,
   "metadata": {},
   "outputs": [],
   "source": [
    "plt.plot(C_history)                                                                 # C_history kirajzolása\n",
    "plt.title(\"Gradient descent algorithms effect through the iterations\",pad= 20)\n",
    "plt.xlabel(\"Iterations\")\n",
    "plt.ylabel(\"Cost function value\")\n",
    "plt.show()"
   ]
  },
  {
   "cell_type": "markdown",
   "metadata": {},
   "source": [
    "### 4: Becslés\n",
    "Becsüljük meg egy 1650 $m^2$-es, 3 szobás ingatlan árát! Figyeljünk, hogy az adatok normalizálását itt is végezzük el."
   ]
  },
  {
   "cell_type": "code",
   "execution_count": null,
   "metadata": {},
   "outputs": [],
   "source": [
    "def predict(FEET, BED):\n",
    "#############################################    \n",
    "    \n",
    "############################################# \n",
    "    return price"
   ]
  },
  {
   "cell_type": "code",
   "execution_count": null,
   "metadata": {},
   "outputs": [],
   "source": [
    "FEET = 1650\n",
    "BED = 3\n",
    "price = predict(FEET, BED)\n",
    "print('''Prediction for a 1650 sq-ft / 3 bedroom house:\n",
    "(predicted price should be approx. $293000) %.2f''' % price)"
   ]
  },
  {
   "cell_type": "markdown",
   "metadata": {},
   "source": [
    "## Kicsit másként. Magasabb szintű csomagokkal"
   ]
  },
  {
   "cell_type": "code",
   "execution_count": 1,
   "metadata": {},
   "outputs": [
    {
     "name": "stdout",
     "output_type": "stream",
     "text": [
      "Prediction for a 1650 sq-ft / 3 bedroom house:\n",
      " 293081.46\n"
     ]
    }
   ],
   "source": [
    "import pandas as pd\n",
    "from sklearn.linear_model import LinearRegression\n",
    "\n",
    "data = pd.read_csv('Lab2data.txt',header = None)                        # adatok beolvasása\n",
    "X = data.iloc[:, 0:2].values.reshape(-1,2)                              # X rendezése\n",
    "Y = data.iloc[:, 2].values.reshape(-1,1)                                # Y rendezése\n",
    "\n",
    "lin_reg = LinearRegression()                                            # lineáris regressziós modell class létrehozása\n",
    "lin_reg.fit(X,Y)                                                        # illesztés az X,Y alapján\n",
    "\n",
    "pred = lin_reg.predict([[1650,3]])                                      # predikció 1650 nm és 3 szobás lakásra\n",
    "print('Prediction for a 1650 sq-ft / 3 bedroom house:\\n %.2f' % pred)"
   ]
  },
  {
   "cell_type": "markdown",
   "metadata": {},
   "source": [
    "<div style=\"text-align: right\">Ez a laborgyakorlat felhasznál elemeket Andrew Ng Machine Learning c. kurzusából.</div>"
   ]
  }
 ],
 "metadata": {
  "kernelspec": {
   "display_name": "Python 3",
   "language": "python",
   "name": "python3"
  },
  "language_info": {
   "codemirror_mode": {
    "name": "ipython",
    "version": 3
   },
   "file_extension": ".py",
   "mimetype": "text/x-python",
   "name": "python",
   "nbconvert_exporter": "python",
   "pygments_lexer": "ipython3",
   "version": "3.7.7"
  }
 },
 "nbformat": 4,
 "nbformat_minor": 2
}
