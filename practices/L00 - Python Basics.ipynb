{
 "cells": [
  {
   "cell_type": "markdown",
   "metadata": {},
   "source": [
    "<img src=\"assets/logo.png\" width=\"800\">"
   ]
  },
  {
   "cell_type": "markdown",
   "metadata": {},
   "source": [
    "Made by **Balázs Nagy**\n",
    "\n",
    "[<img src=\"assets/open_button.png\">](https://colab.research.google.com/github/Fortuz/edu_Adaptive/blob/main/practices/L00%20-%20Python%20Basics.ipynb)\n",
    "\n",
    "# Labor 00 - Python Basics\n",
    "\n",
    "## Useful Python base knowledge\n",
    "\n",
    "In this exercise, we will introduce some of the elements used in Python during the course of the course, which we consider useful in a non-exhaustive way.\n",
    "\n",
    "Phyton is strongly type-oriented, dynamically type-defined (no need to declare variables, it assigns them by itself), case sensitive (var and VAR are two different variables) and object-oriented (everything is an object).\n",
    "\n",
    "Creating a variable creates an object of the appropriate type."
   ]
  },
  {
   "cell_type": "markdown",
   "metadata": {},
   "source": [
    "### 1. Help \n",
    "\n",
    "For help, you can use the help() function or dir(), which lists the functions that can be applied to the object."
   ]
  },
  {
   "cell_type": "code",
   "execution_count": null,
   "metadata": {},
   "outputs": [],
   "source": [
    "# Declare a variable\n",
    "a = -5\n",
    "\n",
    "# With the help() function get some information\n",
    "help(a)"
   ]
  },
  {
   "cell_type": "code",
   "execution_count": null,
   "metadata": {},
   "outputs": [],
   "source": [
    "# The dir() function returns all properties and methods of the specified object, without the values\n",
    "dir(a)"
   ]
  },
  {
   "cell_type": "markdown",
   "metadata": {},
   "source": [
    "You can call the __doc__ function to retrieve the documentation string of a selected method."
   ]
  },
  {
   "cell_type": "code",
   "execution_count": null,
   "metadata": {},
   "outputs": [],
   "source": [
    "# Get the doc string for the abs method\n",
    "abs.__doc__"
   ]
  },
  {
   "cell_type": "code",
   "execution_count": null,
   "metadata": {},
   "outputs": [],
   "source": [
    "abs(a)"
   ]
  },
  {
   "cell_type": "markdown",
   "metadata": {},
   "source": [
    "### 2. Syntax"
   ]
  },
  {
   "cell_type": "markdown",
   "metadata": {},
   "source": [
    "Phython doesn't use block delimiters, everything is indented. The first line of each block that requires indentation ends with a :.\n",
    "A single line comment is possible using the # character, a multi-line comment is possible using the \"\"\" \"\"\" between. A value is specified with the = operator, which is used to assign a name to the object as its property. An equality test is possible with the == operator. Increment and decrement are possible with the += and -= operators. This works on several data types. "
   ]
  },
  {
   "cell_type": "code",
   "execution_count": null,
   "metadata": {},
   "outputs": [],
   "source": [
    "# Declare a variable\n",
    "myvar = 3\n",
    "# Add 2 to the variable\n",
    "myvar += 2\n",
    "# Show output\n",
    "myvar"
   ]
  },
  {
   "cell_type": "code",
   "execution_count": null,
   "metadata": {},
   "outputs": [],
   "source": [
    "# Substract 1 from the variable\n",
    "myvar -= 1\n",
    "# Show output\n",
    "myvar"
   ]
  },
  {
   "cell_type": "code",
   "execution_count": null,
   "metadata": {},
   "outputs": [],
   "source": [
    "\"\"\"This is a multiline comment\n",
    "The following lines add two strings together.\"\"\"\n",
    "\n",
    "mystring = \"Hello\"\n",
    "mystring += \" world.\"\n",
    "print(mystring)"
   ]
  },
  {
   "cell_type": "code",
   "execution_count": null,
   "metadata": {},
   "outputs": [],
   "source": [
    "# The following code replaces the values of two variables in one line(!).\n",
    "# This does not violate the strong type definition, as we are not assigning a value, \n",
    "# but assigning new objects to old names.\n",
    "\n",
    "myvar, mystring = mystring, myvar"
   ]
  },
  {
   "cell_type": "code",
   "execution_count": null,
   "metadata": {},
   "outputs": [],
   "source": [
    "myvar"
   ]
  },
  {
   "cell_type": "code",
   "execution_count": null,
   "metadata": {},
   "outputs": [],
   "source": [
    "mystring"
   ]
  },
  {
   "cell_type": "markdown",
   "metadata": {},
   "source": [
    "### 3. Data types"
   ]
  },
  {
   "cell_type": "markdown",
   "metadata": {},
   "source": [
    "Tha available built in data types in Python are the list, the tuple and the dictionary.\n",
    "- Lists are effectively one-dimensional vectors (but lists can also be list elements). <br>\n",
    "- Dictionaries contain keyword value pairs. <br>\n",
    "- A tuple is a list of Python objects that cannot be changed once declared. It differs from a traditional list in that its elements cannot be modified, but other list operations can be performed on them.<br>\n",
    "\n",
    "Phyton arrays can contain any data type, so the same array can contain an integer, string, list, dictionary, etc. <br>\n",
    "Indexing starts from 0 for all array types. Negative numbers can be used to address an element backwards, so -1 indicates the last element."
   ]
  },
  {
   "cell_type": "code",
   "execution_count": null,
   "metadata": {},
   "outputs": [],
   "source": [
    "sample = [1, [\"another\", \"list\"], (\"a\", \"tuple\")]\n",
    "\n",
    "# The first element of this list is an integer, the second element is a two-element list, and the third element is a 2-element tuple.\n",
    "print(sample)"
   ]
  },
  {
   "cell_type": "code",
   "execution_count": null,
   "metadata": {},
   "outputs": [],
   "source": [
    "mylist = [\"List item 1\", 2, 3.14]\n",
    "\n",
    "# mylist is a list containing strig, integer and float values\n",
    "print(mylist)"
   ]
  },
  {
   "cell_type": "code",
   "execution_count": null,
   "metadata": {},
   "outputs": [],
   "source": [
    "# Select the first element (i.e. 0) of the list\n",
    "mylist[0]"
   ]
  },
  {
   "cell_type": "code",
   "execution_count": null,
   "metadata": {},
   "outputs": [],
   "source": [
    "# Overwrite list item\n",
    "mylist[0] = \"List item 1 again\"\n",
    "\n",
    "print(mylist[0])"
   ]
  },
  {
   "cell_type": "code",
   "execution_count": null,
   "metadata": {},
   "outputs": [],
   "source": [
    "# Last item of the list\n",
    "mylist[-1]"
   ]
  },
  {
   "cell_type": "code",
   "execution_count": null,
   "metadata": {},
   "outputs": [],
   "source": [
    "# Define a dictionary with key-value pairs\n",
    "mydict = {\"Key 1\": \"Value 1\", 2: 3, \"pi\": 3.14}\n",
    "\n",
    "print(mydict)"
   ]
  },
  {
   "cell_type": "code",
   "execution_count": null,
   "metadata": {},
   "outputs": [],
   "source": [
    "# Select an element with a key to get the corresponding value\n",
    "mydict[\"pi\"]"
   ]
  },
  {
   "cell_type": "code",
   "execution_count": null,
   "metadata": {},
   "outputs": [],
   "source": [
    "# Overwrite the value of the element \"pi\" in a dictionary\n",
    "mydict[\"pi\"] = 3.15\n",
    "print(mydict[\"pi\"])"
   ]
  },
  {
   "cell_type": "code",
   "execution_count": null,
   "metadata": {},
   "outputs": [],
   "source": [
    "# Declaration of a tuple\n",
    "mytuple = (1, 2, 3)\n",
    "print(mytuple)"
   ]
  },
  {
   "cell_type": "code",
   "execution_count": null,
   "metadata": {},
   "outputs": [],
   "source": [
    "# Write out the length of the tuple\n",
    "len(mytuple) "
   ]
  },
  {
   "cell_type": "code",
   "execution_count": null,
   "metadata": {},
   "outputs": [],
   "source": [
    "# Specify new length function\n",
    "myfunction = len"
   ]
  },
  {
   "cell_type": "code",
   "execution_count": null,
   "metadata": {},
   "outputs": [],
   "source": [
    "print(myfunction(mylist))"
   ]
  },
  {
   "cell_type": "code",
   "execution_count": null,
   "metadata": {},
   "outputs": [],
   "source": [
    "print(mylist)"
   ]
  },
  {
   "cell_type": "markdown",
   "metadata": {},
   "source": [
    "To access certain elements of an array, you can also specify an interval separated by the : character. If you leave the starting number empty, the numbering automatically starts from the beginning of the array. Leaving the end of the interval blank will automatically look up to the last element in the array."
   ]
  },
  {
   "cell_type": "code",
   "execution_count": null,
   "metadata": {},
   "outputs": [],
   "source": [
    "print(mylist[:])"
   ]
  },
  {
   "cell_type": "code",
   "execution_count": null,
   "metadata": {},
   "outputs": [],
   "source": [
    "print(mylist[0:2])"
   ]
  },
  {
   "cell_type": "code",
   "execution_count": null,
   "metadata": {},
   "outputs": [],
   "source": [
    "print(mylist[-3:-1])"
   ]
  },
  {
   "cell_type": "code",
   "execution_count": null,
   "metadata": {},
   "outputs": [],
   "source": [
    "print(mylist[1:])"
   ]
  },
  {
   "cell_type": "markdown",
   "metadata": {},
   "source": [
    "You can add a third element to the interval, the step interval. With this parameter we can select every second element."
   ]
  },
  {
   "cell_type": "code",
   "execution_count": null,
   "metadata": {},
   "outputs": [],
   "source": [
    "print(mylist[::2])"
   ]
  },
  {
   "cell_type": "markdown",
   "metadata": {},
   "source": [
    "### 4. Strings"
   ]
  },
  {
   "cell_type": "markdown",
   "metadata": {},
   "source": [
    "You can use ' or \" quotes when writing strings. You can also nest the two delimiters when writing out strings. "
   ]
  },
  {
   "cell_type": "code",
   "execution_count": null,
   "metadata": {},
   "outputs": [],
   "source": [
    "print(\"He said 'Hello'\")"
   ]
  },
  {
   "cell_type": "code",
   "execution_count": null,
   "metadata": {},
   "outputs": [],
   "source": [
    "print('He also said \"How are you?\"')"
   ]
  },
  {
   "cell_type": "markdown",
   "metadata": {},
   "source": [
    "To fill strings, we use the % operator and a tuple. Each %s will be replaced by a tuple element from left to right. Dictionary formulation can also be used. \n",
    "\n",
    "Caution: pay attention to the s ending \"%(key)s\"."
   ]
  },
  {
   "cell_type": "code",
   "execution_count": null,
   "metadata": {},
   "outputs": [],
   "source": [
    "print(\"This %(verb)s a %(noun)s.\" % {\"noun\": \"test\", \"verb\": \"is\"})"
   ]
  },
  {
   "cell_type": "code",
   "execution_count": null,
   "metadata": {},
   "outputs": [],
   "source": [
    "# Adaptive print\n",
    "name = \"Groot\"\n",
    "\n",
    "print(\"Hello, {}!\".format(name))"
   ]
  },
  {
   "cell_type": "code",
   "execution_count": null,
   "metadata": {},
   "outputs": [],
   "source": [
    "print(f\"I am {name}!\")"
   ]
  },
  {
   "cell_type": "markdown",
   "metadata": {},
   "source": [
    "### 5. Loops and Switches\n",
    "\n",
    "The expressions that can be used are if, for and while. Python does not have a switch. You can also use range(<number>) during iterations."
   ]
  },
  {
   "cell_type": "code",
   "execution_count": null,
   "metadata": {},
   "outputs": [],
   "source": [
    "print(range(10)) \n",
    "# may not seem useful on its own, but..."
   ]
  },
  {
   "cell_type": "code",
   "execution_count": null,
   "metadata": {},
   "outputs": [],
   "source": [
    "# it can be converted as a list\n",
    "rangelist = list(range(10))\n",
    "print(rangelist)"
   ]
  },
  {
   "cell_type": "code",
   "execution_count": null,
   "metadata": {},
   "outputs": [],
   "source": [
    "# and it can be iterated through\n",
    "\n",
    "for number in range(10):\n",
    "    # Check that the current number\n",
    "    # is part of the tuple.\n",
    "    if number in (3, 4, 7, 9):\n",
    "        # The 'break' command exits the for loop\n",
    "        # before executing the else branch\n",
    "        print(number)\n",
    "        break\n",
    "    else:\n",
    "        # \"Continue\" to start the next iteration. \n",
    "        # in the loop. Pretty useless here, since\n",
    "        # this is the last instruction.\n",
    "        continue\n",
    "else:\n",
    "    # The else branch is only optional, since it can only be\n",
    "    # if the loop is not broken.\n",
    "    pass # Do nothing"
   ]
  },
  {
   "cell_type": "code",
   "execution_count": null,
   "metadata": {},
   "outputs": [],
   "source": [
    "if rangelist[1] == 2:\n",
    "    print(\"The second item (lists are 0-based) is 2\")\n",
    "elif rangelist[1] == 3:\n",
    "    print(\"The second item (lists are 0-based) is 3\")\n",
    "else:\n",
    "    print(\"Dunno\")"
   ]
  },
  {
   "cell_type": "markdown",
   "metadata": {},
   "source": [
    "If you manage to chase the program into an infinite loop, you can only stop the program by clicking on the \"interrupt kernel\" button in the Jupyter Notebook menu bar.\n",
    "To test this, first activate the comment of the following cell."
   ]
  },
  {
   "cell_type": "code",
   "execution_count": null,
   "metadata": {},
   "outputs": [],
   "source": [
    "#while rangelist[1] == 1:\n",
    "#    print(\"We are trapped in an infinite loop!\")"
   ]
  },
  {
   "cell_type": "markdown",
   "metadata": {},
   "source": [
    "### 6. Functions\n",
    "\n",
    "Functions are declared with the def keyword. In the declaration, you can also specify the arguments, where you can set default values for each required variable. The return value of a function can be a tuple, so you can easily return multiple variables. A lambda function is an ad hoc function that compresses an instruction. Its parameter can be given by reference, in a non-modifiable type (tuple, int, string). It cannot be modified in the caller. The explanation for this is that only the address of the memory location is passed and if a new object is added to a line the old value is discarded."
   ]
  },
  {
   "cell_type": "code",
   "execution_count": null,
   "metadata": {
    "scrolled": true
   },
   "outputs": [],
   "source": [
    "# Inline function definition\n",
    "funcvar = lambda x: x + 1\n",
    "print(funcvar(1))"
   ]
  },
  {
   "cell_type": "code",
   "execution_count": null,
   "metadata": {},
   "outputs": [],
   "source": [
    "# Specifying an_int and a_string is optional, as they have default values,\n",
    "# if one of them is not specified when the function is called.\n",
    "\n",
    "def passing_example(a_list, an_int=2, a_string=\"A default string\"):\n",
    "    a_list.append(\"A new item\")\n",
    "    an_int = 4\n",
    "    return a_list, an_int, a_string"
   ]
  },
  {
   "cell_type": "code",
   "execution_count": null,
   "metadata": {},
   "outputs": [],
   "source": [
    "my_list = [1, 2, 3]\n",
    "my_int = 10\n",
    "\n",
    "print(passing_example(my_list, my_int))"
   ]
  },
  {
   "cell_type": "code",
   "execution_count": null,
   "metadata": {},
   "outputs": [],
   "source": [
    "my_list"
   ]
  },
  {
   "cell_type": "code",
   "execution_count": null,
   "metadata": {},
   "outputs": [],
   "source": [
    "my_int"
   ]
  },
  {
   "cell_type": "markdown",
   "metadata": {},
   "source": [
    "### 7. Exception handling\n",
    "\n",
    "Exception handling in Python is possible with the try-except block."
   ]
  },
  {
   "cell_type": "code",
   "execution_count": null,
   "metadata": {},
   "outputs": [],
   "source": [
    "def some_function(a):\n",
    "    try:\n",
    "        # Divide by zero results in error\n",
    "        10 / a\n",
    "    except ZeroDivisionError:\n",
    "        print(\"Oops, invalid input parameter.\")\n",
    "    else:\n",
    "        print(\"Good input parameter.\")\n",
    "    finally:\n",
    "        # This runs after the code block has handled all the errors. \n",
    "        # Even if a new error occurs in between error handling.\n",
    "        print(\"This runs anyway.\")"
   ]
  },
  {
   "cell_type": "code",
   "execution_count": null,
   "metadata": {},
   "outputs": [],
   "source": [
    "some_function(0)"
   ]
  },
  {
   "cell_type": "markdown",
   "metadata": {},
   "source": [
    "### 9. Import\n",
    "You can use external libraries after importing the library. You can import a whole library <br>\n",
    "import [library]  <br>\n",
    "or parts of libraries, or functions of libraries. <br>\n",
    "from [library] import [function] <br>\n",
    "You can also use the as command to associate a shorter expression with frequently used packages. <br>\n",
    "import [könyvtár] as [kulcsszó]"
   ]
  },
  {
   "cell_type": "code",
   "execution_count": null,
   "metadata": {},
   "outputs": [],
   "source": [
    "import random\n",
    "\n",
    "randomint = random.randint(1, 100)\n",
    "print(randomint)"
   ]
  },
  {
   "cell_type": "markdown",
   "metadata": {},
   "source": [
    "### 10. File I/O"
   ]
  },
  {
   "cell_type": "markdown",
   "metadata": {},
   "source": [
    "Python has a wide array of libraries built in. As an example, here is how serializing (converting data structures to strings using the pickle library) with file I/O is used. First we need to upload the data file into the google colab."
   ]
  },
  {
   "cell_type": "code",
   "execution_count": null,
   "metadata": {},
   "outputs": [],
   "source": [
    "!wget https://github.com/Fortuz/edu_Adaptive/raw/main/practices/assets/Lab00/Test.txt"
   ]
  },
  {
   "cell_type": "code",
   "execution_count": null,
   "metadata": {},
   "outputs": [],
   "source": [
    "# Let's read what's in the file.\n",
    "# The letter r after open is to prevent \n",
    "# special characters in the filename from causing an exit.\n",
    "myfile = open(r\"Test.txt\")\n",
    "print(myfile.read())\n",
    "myfile.close()"
   ]
  },
  {
   "cell_type": "markdown",
   "metadata": {},
   "source": [
    "### 11. Global variables"
   ]
  },
  {
   "cell_type": "markdown",
   "metadata": {},
   "source": [
    "Global variables are declared outside the function and can be used inside the function without further definition. If you want to modify it inside the function (not just read it), you must declare it inside the function using the global keyword otherwise Python will create a new local variable with that name."
   ]
  },
  {
   "cell_type": "code",
   "execution_count": null,
   "metadata": {},
   "outputs": [],
   "source": [
    "number = 5\n",
    "\n",
    "def myfunc():\n",
    "    # This will print 5.\n",
    "    print(number)\n",
    "\n",
    "def anotherfunc():\n",
    "    # This raises an exception because the variable has not\n",
    "    # been bound before printing. Python knows that it is an\n",
    "    # object, it will be bound to it later and creates a new, local\n",
    "    # object instead of accessing the global one.\n",
    "\n",
    "    number = 3\n",
    "    print(number)\n",
    "\n",
    "def yetanotherfunc():\n",
    "    global number\n",
    "    # This will correctly change the global.\n",
    "    number = 8\n",
    "    print(number)"
   ]
  },
  {
   "cell_type": "markdown",
   "metadata": {},
   "source": [
    "Run the following cells multiple times in different orders! "
   ]
  },
  {
   "cell_type": "code",
   "execution_count": null,
   "metadata": {},
   "outputs": [],
   "source": [
    "# This function just print out the global variable\n",
    "myfunc()"
   ]
  },
  {
   "cell_type": "code",
   "execution_count": null,
   "metadata": {},
   "outputs": [],
   "source": [
    "# This function uses its local variable only\n",
    "anotherfunc()"
   ]
  },
  {
   "cell_type": "code",
   "execution_count": null,
   "metadata": {},
   "outputs": [],
   "source": [
    "# This function takes the global variable and redefine it\n",
    "yetanotherfunc()"
   ]
  },
  {
   "cell_type": "markdown",
   "metadata": {},
   "source": [
    "### 12 NumPy package\n",
    "\n",
    "During the practices Numpy will be one of the most commonly used package. Let's import it!\n",
    "After the import, a shorter form can be specified with the <font color='green'>$as$</font> command for ease of use."
   ]
  },
  {
   "cell_type": "code",
   "execution_count": null,
   "metadata": {},
   "outputs": [],
   "source": [
    "import numpy as np"
   ]
  },
  {
   "cell_type": "markdown",
   "metadata": {},
   "source": [
    "Let's create the following arrays:\n",
    "\n",
    "A = \n",
    "\\begin{array}{ccc}\n",
    "0 & 0 & 0\n",
    "\\end{array}\n",
    "\n",
    "B = \n",
    "\\begin{array}{c}\n",
    "1\\\\\n",
    "1\\\\\n",
    "1\n",
    "\\end{array}\n",
    "\n",
    "C = \n",
    "\\begin{array}{cc}\n",
    "1 & 2\\\\\n",
    "3 & 4\\\\\n",
    "5 & 6\n",
    "\\end{array}\n",
    "\n",
    "The syntax: you can specify the members of the array by separating the elements of the array rows with commas []. For multidimensional arrays, the rows are also separated by , characters and the rows are placed in another pair []."
   ]
  },
  {
   "cell_type": "code",
   "execution_count": null,
   "metadata": {},
   "outputs": [],
   "source": [
    "A = np.array([0,0,0,])\n",
    "B = np.array([[1],[1],[1]])\n",
    "C = np.array([[1,2],[3,4],[5,6]])\n",
    "D = np.array([[0,1,2,3,4,5,6],[7,8,9,10,11,12,13],[14,15,16,17,18,19,20],[21,22,23,24,25,26,27]])\n",
    "\n",
    "print('A:\\n',A)\n",
    "print('B:\\n',B)\n",
    "print('C:\\n',C)\n",
    "print('D:\\n',D)"
   ]
  },
  {
   "cell_type": "markdown",
   "metadata": {},
   "source": [
    "When checking back, the array dimensions are retrieved using numpy.array().shape.\\\n",
    "Task:\n",
    "- Write out the shape of the matrices created in the previous cell.\n",
    "- Write the magnitude of the first dimension of the matrix C."
   ]
  },
  {
   "cell_type": "code",
   "execution_count": null,
   "metadata": {},
   "outputs": [],
   "source": [
    "print(A.shape)\n",
    "print(B.shape)\n",
    "print(C.shape)\n",
    "print(D.shape)\n",
    "print(C.shape[0])"
   ]
  },
  {
   "cell_type": "markdown",
   "metadata": {},
   "source": [
    "It is worth noting that for row vectors, the function displays 1 dimension, while for column vectors it displays 2 dimensions. \n",
    "\n",
    "Many times we may need the number of elements in a list, array or matrix. In such cases we use [numpy.ndarray.size](https://docs.scipy.org/doc/numpy/reference/generated/numpy.ndarray.size.html \"documentation\"). IMPORTANT that this is not the same as the shape, but the product of the elements of the shape, i.e. all the elements.\n",
    "\n",
    "Task:\n",
    "- Determine the size of the matrices A and D!"
   ]
  },
  {
   "cell_type": "code",
   "execution_count": null,
   "metadata": {},
   "outputs": [],
   "source": [
    "print(A.size)\n",
    "print(D.size)"
   ]
  },
  {
   "cell_type": "markdown",
   "metadata": {},
   "source": [
    "An array element can be referenced by its row and column index. Indexing starts from 0.\\\n",
    "Syntax:\n",
    "\n",
    "<array name>[row, column]\n",
    "\n",
    ", where the whole row or column can be referenced by typing :at the position of the elements, or by using x:y form boundary values to extract specified details from the matrix."
   ]
  },
  {
   "cell_type": "code",
   "execution_count": null,
   "metadata": {},
   "outputs": [],
   "source": [
    "print(\"One element\")\n",
    "print(C[0,0])\n",
    "print(\"One row\")\n",
    "print(C[0,:])\n",
    "print(\"One column\")\n",
    "print(C[:,0])\n",
    "print(\"Sub-matrix\")\n",
    "print(D[1:3,2:6])"
   ]
  },
  {
   "cell_type": "markdown",
   "metadata": {},
   "source": [
    "Create array of zeros: [numpy.zeros()](https://docs.scipy.org/doc/numpy/reference/generated/numpy.zeros.html \"datasheet\").\\\n",
    "Task:\n",
    "- Create a (1,5) totally zero matrix!\n",
    "- create a zero matrix of the size of matrix C!"
   ]
  },
  {
   "cell_type": "code",
   "execution_count": null,
   "metadata": {},
   "outputs": [],
   "source": [
    "Z1 = np.zeros((1,5))\n",
    "Z2 = np.zeros(C.shape)\n",
    "print(Z1)\n",
    "print(Z2)"
   ]
  },
  {
   "cell_type": "markdown",
   "metadata": {},
   "source": [
    "Create a matrix of ones using [numpy.ones()](https://docs.scipy.org/doc/numpy/reference/generated/numpy.ones.html#numpy.ones \"datasheet\").\\\n",
    "Task:\n",
    "- create a (1,5) pure ones matrix!\n",
    "- create a pure matrix of ones corresponding to matrix C!\n",
    "- create a \"row vector\" corresponding to the rows of the matrix C!"
   ]
  },
  {
   "cell_type": "code",
   "execution_count": null,
   "metadata": {},
   "outputs": [],
   "source": [
    "O1 = np.ones((1,5))\n",
    "O2 = np.ones(C.shape)\n",
    "O3 = np.ones(C.shape[0])\n",
    "print(O1)\n",
    "print(O2)\n",
    "print(O3)"
   ]
  },
  {
   "cell_type": "markdown",
   "metadata": {},
   "source": [
    "There are many times when we may need to transform our matrix into a particular other form. We can do this with [numpy.reshape()](https://docs.scipy.org/doc/numpy/reference/generated/numpy.reshape.html \"documentation\").\n",
    "Task:\n",
    "- create a row vector from the matrix D!\n",
    "- create a matrix from the matrix D that swaps the dimensions of the matrix D (NOT its transpose!)"
   ]
  },
  {
   "cell_type": "code",
   "execution_count": null,
   "metadata": {},
   "outputs": [],
   "source": [
    "R1 = D.reshape(1,D.size)\n",
    "R2 = D.reshape((7,4))\n",
    "\n",
    "print(R1)\n",
    "print(R2)"
   ]
  },
  {
   "cell_type": "markdown",
   "metadata": {},
   "source": [
    "To create a transpose of a matrix, use [numpy.ndarray.transpose()](https://docs.scipy.org/doc/numpy/reference/generated/numpy.transpose.html \"documentation\") or $.T$. We have to be careful here that the matrix is interpreted as a numpy matrix and not as a numpy vector, which is left untouched.\\\n",
    "Task:\n",
    "- transpose matrices A,B,C,D."
   ]
  },
  {
   "cell_type": "code",
   "execution_count": null,
   "metadata": {},
   "outputs": [],
   "source": [
    "print('A:\\n', A, '\\nA.T:\\n', A.T, '\\n')\n",
    "print('B:\\n', B, '\\nB.T:\\n', B.T, '\\n')\n",
    "print('C:\\n', C, '\\nC.T:\\n', C.T, '\\n')\n",
    "print('D:\\n', D, '\\nD.T:\\n', D.T, '\\n')"
   ]
  },
  {
   "cell_type": "markdown",
   "metadata": {},
   "source": [
    "You can see that matrix A is not transposed. This is because our matrix A is a NumPy vector. The easiest way to check this is to look at it with the .shape command. Then the result will be in the form (x, ) instead of the matrix (x, y) format."
   ]
  },
  {
   "cell_type": "markdown",
   "metadata": {},
   "source": [
    "Sometimes we may need to pass a matrix as a vector to a function. In this case, you can use [numpy.ndarray.flatten()](https://docs.scipy.org/doc/numpy/reference/generated/numpy.ndarray.flatten.html \"documentation\").\n",
    "Task:\n",
    "- \"flatten\" the matrices C and D!"
   ]
  },
  {
   "cell_type": "code",
   "execution_count": null,
   "metadata": {},
   "outputs": [],
   "source": [
    "print('C lapítva:',C.flatten())\n",
    "print('D lapítva:',D.flatten())"
   ]
  },
  {
   "cell_type": "markdown",
   "metadata": {},
   "source": [
    "If you want to know the sum of the elements, rows, columns of a matrix, you can use [numpy.sum()](https://docs.scipy.org/doc/numpy/reference/generated/numpy.sum.html \"documentation\"). Here we can set the axis according to which we want to sum.\\\n",
    "Task:\n",
    "- sum the rows of D, then sum the columns separately, then sum all elements!"
   ]
  },
  {
   "cell_type": "code",
   "execution_count": null,
   "metadata": {},
   "outputs": [],
   "source": [
    "print(np.sum(D,axis=0))\n",
    "print(np.sum(D,axis=1))\n",
    "print(np.sum(D,axis=None))"
   ]
  },
  {
   "cell_type": "markdown",
   "metadata": {},
   "source": [
    "If you want to know the average of the elements, rows, columns of a matrix, you can use [numpy.mean()](https://docs.scipy.org/doc/numpy/reference/generated/numpy.mean.html#numpy.mean \"documentation\"). Here we can set the axis we want to sum by.\n",
    "Task:\n",
    "- average the rows of D and then the columns separately and then all elements!"
   ]
  },
  {
   "cell_type": "code",
   "execution_count": null,
   "metadata": {},
   "outputs": [],
   "source": [
    "print(np.mean(D, axis=0))\n",
    "print(np.mean(D, axis=1))\n",
    "print(np.mean(D, axis=None))"
   ]
  },
  {
   "cell_type": "markdown",
   "metadata": {},
   "source": [
    "If you want to average the elements, rows, columns of a matrix, you can use [numpy.std()](https://docs.scipy.org/doc/numpy/reference/generated/numpy.mean.html#numpy.mean \"documentation\"). Here we can set the axis by which we want to sum. Another important parameter here is ddof, which we can use to specify what type of scatter we want (empirical = 0 / corrected empirical = 1)\n",
    "\n",
    "Task:\n",
    "\n",
    "- calculate the scatter of the rows of D and then separately of the columns and then of all elements!\n",
    "- Let's try what happens if we set the parameter ddof to 1!"
   ]
  },
  {
   "cell_type": "code",
   "execution_count": null,
   "metadata": {},
   "outputs": [],
   "source": [
    "print(np.std(D, axis=0,    ddof=1))\n",
    "print(np.std(D, axis=1,    ddof=1))\n",
    "print(np.std(D, axis=None, ddof=0))\n",
    "print(np.std(D, axis=None, ddof=1))"
   ]
  },
  {
   "cell_type": "markdown",
   "metadata": {},
   "source": [
    "### Common matrix operations\n",
    "\n",
    "Create two 2x2 matrices."
   ]
  },
  {
   "cell_type": "code",
   "execution_count": null,
   "metadata": {},
   "outputs": [],
   "source": [
    "x = np.array([[1,2],[3,4]], dtype=np.float64)\n",
    "y = np.array([[5,6],[7,8]], dtype=np.float64)\n",
    "\n",
    "print(x)\n",
    "print(\"\\n\")\n",
    "print(y)"
   ]
  },
  {
   "cell_type": "markdown",
   "metadata": {},
   "source": [
    "Let's examine how the matrices can be matched in different ways."
   ]
  },
  {
   "cell_type": "code",
   "execution_count": null,
   "metadata": {},
   "outputs": [],
   "source": [
    "# Mátrixok összefűzése\n",
    "v_stack = np.vstack((x,y))\n",
    "c_stack = np.column_stack((x,y))\n",
    "stack = np.stack((x,y))\n",
    "\n",
    "print('v_stack:')\n",
    "print(v_stack)\n",
    "print(\"\\n\")\n",
    "print(v_stack.shape)\n",
    "print(\"\\n\")\n",
    "print('c_stack:')\n",
    "print(c_stack)\n",
    "print(\"\\n\")\n",
    "print(c_stack.shape)\n",
    "print(\"\\n\")\n",
    "print('stack:')\n",
    "print(stack)\n",
    "print(\"\\n\")\n",
    "print(stack.shape)"
   ]
  },
  {
   "cell_type": "code",
   "execution_count": null,
   "metadata": {},
   "outputs": [],
   "source": [
    "# Elementwise addition\n",
    "print(x + y)\n",
    "print(np.add(x, y))"
   ]
  },
  {
   "cell_type": "code",
   "execution_count": null,
   "metadata": {},
   "outputs": [],
   "source": [
    "# Elementwise subtraction\n",
    "print(x - y)\n",
    "print(np.subtract(x, y))"
   ]
  },
  {
   "cell_type": "code",
   "execution_count": null,
   "metadata": {},
   "outputs": [],
   "source": [
    "# Elementwise multiplication\n",
    "print(x * y)\n",
    "print(np.multiply(x, y))"
   ]
  },
  {
   "cell_type": "code",
   "execution_count": null,
   "metadata": {},
   "outputs": [],
   "source": [
    "# Elementwise division\n",
    "print(x / y)\n",
    "print(np.divide(x, y))"
   ]
  },
  {
   "cell_type": "code",
   "execution_count": null,
   "metadata": {},
   "outputs": [],
   "source": [
    "# Elementwise square\n",
    "print(np.square(x))\n",
    "print(x ** 2)"
   ]
  },
  {
   "cell_type": "code",
   "execution_count": null,
   "metadata": {},
   "outputs": [],
   "source": [
    "# Elementwise root\n",
    "print(np.sqrt(x))"
   ]
  },
  {
   "cell_type": "markdown",
   "metadata": {},
   "source": [
    "Note that the * operator means multiplication per element, not matrix multiplication. Instead, use the dot function or the @ operator. The dot function is available as a function within the NumPy module or as an internal method of the array class."
   ]
  },
  {
   "cell_type": "code",
   "execution_count": null,
   "metadata": {},
   "outputs": [],
   "source": [
    "x = np.array([[1,2],[3,4]])\n",
    "y = np.array([[5,6],[7,8]])\n",
    "\n",
    "v = np.array([9,10])\n",
    "w = np.array([11, 12])"
   ]
  },
  {
   "cell_type": "code",
   "execution_count": null,
   "metadata": {},
   "outputs": [],
   "source": [
    "# Vector-vector multiplication\n",
    "print(v.dot(w))\n",
    "print(np.dot(v, w))"
   ]
  },
  {
   "cell_type": "code",
   "execution_count": null,
   "metadata": {},
   "outputs": [],
   "source": [
    "# Matrix-vector multiplication\n",
    "print(x.dot(v))\n",
    "print(np.dot(x, v))"
   ]
  },
  {
   "cell_type": "code",
   "execution_count": null,
   "metadata": {},
   "outputs": [],
   "source": [
    "# Matrix-matrix multiplication\n",
    "# [[19 22]\n",
    "#  [43 50]]\n",
    "print(x.dot(y))\n",
    "print(np.dot(x, y))\n",
    "print(x@y)"
   ]
  },
  {
   "cell_type": "markdown",
   "metadata": {},
   "source": [
    "We may also need the [numpy.log()](https://docs.scipy.org/doc/numpy/reference/generated/numpy.log.html \"datasheet\") function. This can calculate the natural-based logarithm on the elements of the NumPy array.\n",
    "\n",
    "Task:\n",
    "- Compute the natural basis logarithm of the vector [1 2 3 4 5]."
   ]
  },
  {
   "cell_type": "code",
   "execution_count": null,
   "metadata": {},
   "outputs": [],
   "source": [
    "a = np.array([1, 2, 3, 4, 5])\n",
    "LOG = np.log(a)\n",
    "print(LOG)"
   ]
  },
  {
   "cell_type": "markdown",
   "metadata": {},
   "source": [
    "### MatPlotLib elements"
   ]
  },
  {
   "cell_type": "markdown",
   "metadata": {},
   "source": [
    "Using MatPlotLib is also very similar to using MATLAB. We will now review the use of the simplest plot function. First import the package, then define a data set that you want to plot!"
   ]
  },
  {
   "cell_type": "code",
   "execution_count": null,
   "metadata": {},
   "outputs": [],
   "source": [
    "import matplotlib.pyplot as plt\n",
    "\n",
    "x = np.array([0, 1, 2, 3, 4, 5, 6, 7, 8, 9])\n",
    "y = np.array([5, 6, 6, 7, 8, 3, 4, 4, 7, 10])"
   ]
  },
  {
   "cell_type": "markdown",
   "metadata": {},
   "source": [
    "Plot the values of the function y(x). For this, use [matplotlib.pyplot.plot()](https://matplotlib.org/3.1.1/api/_as_gen/matplotlib.pyplot.plot.html \"documentation\")!\n",
    "Set the axis label corresponding to the axes and give the plot a title. These can be displayed using [matplotlib.pyplot.xlabel()](https://matplotlib.org/3.1.1/api/_as_gen/matplotlib.pyplot.xlabel.html \"documentation\") , [matplotlib.pyplot.ylabel()](https://matplotlib.org/3.1.1/api/_as_gen/matplotlib.pyplot.ylabel.html \"documentation\") , [matplotlib.pyplot.title()](https://matplotlib.org/3.1.1/api/_as_gen/matplotlib.pyplot.title.html \"documentation\") . And we can display our result using [matplotlib.pyplot.show()](https://matplotlib.org/3.1.1/api/_as_gen/matplotlib.pyplot.show.html \"documentation\") ."
   ]
  },
  {
   "cell_type": "code",
   "execution_count": null,
   "metadata": {},
   "outputs": [],
   "source": [
    "plt.plot(x,y)\n",
    "plt.xlabel('x value')\n",
    "plt.ylabel('y value')\n",
    "plt.title('Figure title')\n",
    "plt.show()"
   ]
  },
  {
   "cell_type": "markdown",
   "metadata": {},
   "source": [
    "Suppose you want to display two values on the graph. You can also separate them by labeling them, which can be specified within the plot command as label = '...'. If you want to display this in the plot, you can do this using [matplotlib.pyplot.legend()](https://matplotlib.org/3.1.1/api/_as_gen/matplotlib.pyplot.legend.html \"documentation\").\n",
    "To demonstrate this, let's now define a variable yy and draw it on the figure!"
   ]
  },
  {
   "cell_type": "code",
   "execution_count": null,
   "metadata": {},
   "outputs": [],
   "source": [
    "yy = np.array([ 0, 0, 0, 0, 1, 1, 2, 3, 4, 5])\n",
    "plt.plot(x,y, label = 'y value')\n",
    "plt.plot(x,yy, label = 'yy value')\n",
    "plt.xlabel('x value')\n",
    "plt.ylabel('y value')\n",
    "plt.title('Figure title')\n",
    "plt.legend()\n",
    "plt.show()"
   ]
  }
 ],
 "metadata": {
  "kernelspec": {
   "display_name": "Python 3",
   "language": "python",
   "name": "python3"
  },
  "language_info": {
   "codemirror_mode": {
    "name": "ipython",
    "version": 3
   },
   "file_extension": ".py",
   "mimetype": "text/x-python",
   "name": "python",
   "nbconvert_exporter": "python",
   "pygments_lexer": "ipython3",
   "version": "3.9.13"
  }
 },
 "nbformat": 4,
 "nbformat_minor": 2
}
