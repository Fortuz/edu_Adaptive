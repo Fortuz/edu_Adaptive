{
 "cells": [
  {
   "cell_type": "markdown",
   "metadata": {},
   "source": [
    "<img src=\"files/Pics/LOGOS.png\" width=\"800\">"
   ]
  },
  {
   "cell_type": "markdown",
   "metadata": {},
   "source": [
    "# Labor 01: Lineáris regresszió egy változóval\n",
    "### Profit a városban:\n",
    "A gyakorlat során egyváltozós lineáris regressziót fogunk implementálni, melynek segítségével képesek leszünk a profit predikciójára egy élelmiszerellátó egységnek.\n",
    "\n",
    "Képzeljük el, hogy CEO-k vagyunk egy élelmiszerláncnál és azon gondolkodunk, hogy hol nyissunk egy új üzletet, melyik városokban érné meg ez nekünk. Az élelmiszerláncolatnak már megvan az ehhez szükséges feltételei csak el kéne dönteni, melyik városban bővüljön. Ehhez segítségünkre lesz a cég által begyűjtött adathalmaz a városok népességéről és a várható profitról."
   ]
  },
  {
   "cell_type": "markdown",
   "metadata": {},
   "source": [
    "### 1: Importáljuk be a fontos csomagokat\n",
    "Szükségünk lesz a matplotlib bizonyos elemeire a rajzoláshoz és a NumPy -ra az egyszerűbb tömb kezelés miatt."
   ]
  },
  {
   "cell_type": "code",
   "execution_count": 57,
   "metadata": {},
   "outputs": [],
   "source": [
    "import numpy as np\n",
    "from mpl_toolkits.mplot3d import Axes3D\n",
    "from matplotlib import cm\n",
    "import matplotlib.pyplot as plt\n",
    "%run ./tests.ipynb"
   ]
  },
  {
   "cell_type": "markdown",
   "metadata": {},
   "source": [
    "### 2: Adatok beolvasása fileból"
   ]
  },
  {
   "cell_type": "markdown",
   "metadata": {},
   "source": [
    "Fontos, hogy egy buborékba legyen a megnyitás és lezárás. Egyéb esetekben nem várt hibát okozhat.<br>\n",
    "Ha a data file a main file mellett van egyszerűen megy a beolvasás. <br>\n",
    "Bonyolultabb fájlstruktúra esetén az egész elérési utat meg kell adni. <br>\n",
    "A nyers, szétválogatás nélküli adatok ezek után egy változóban lesznek eltárolva. <br>\n",
    "Opcionális: Irassuk ki az eredményt, hogy lássuk mi legyen a következő lépés az adatok rendezésére."
   ]
  },
  {
   "cell_type": "code",
   "execution_count": 2,
   "metadata": {},
   "outputs": [],
   "source": [
    "file=open(\"Lab1data.txt\",'r')\n",
    "lines=file.readlines()\n",
    "file.close()                    \n",
    "\n",
    "#print(lines)"
   ]
  },
  {
   "cell_type": "markdown",
   "metadata": {},
   "source": [
    "Rendezzük az adatainkat a megfelelő változókba. Először definiálunk 2 listát, X-et és Y-t. Soronkét haladva az elválasztó karakter mentén daraboljuk szét az adatokat. Majd NumPy tömbbé alakítjuk és 2 oszlop vektorrá formázzuk az adatokat. A művelet végén mindkét tömb dimenziója m x 1 lesz, ahol m a minták száma.  "
   ]
  },
  {
   "cell_type": "code",
   "execution_count": 3,
   "metadata": {},
   "outputs": [
    {
     "name": "stdout",
     "output_type": "stream",
     "text": [
      "X dimenziója: (97, 1) ; X értékei:\n",
      " [[ 6.1101]\n",
      " [ 5.5277]\n",
      " [ 8.5186]\n",
      " [ 7.0032]\n",
      " [ 5.8598]\n",
      " [ 8.3829]\n",
      " [ 7.4764]\n",
      " [ 8.5781]\n",
      " [ 6.4862]\n",
      " [ 5.0546]\n",
      " [ 5.7107]\n",
      " [14.164 ]\n",
      " [ 5.734 ]\n",
      " [ 8.4084]\n",
      " [ 5.6407]\n",
      " [ 5.3794]\n",
      " [ 6.3654]\n",
      " [ 5.1301]\n",
      " [ 6.4296]\n",
      " [ 7.0708]\n",
      " [ 6.1891]\n",
      " [20.27  ]\n",
      " [ 5.4901]\n",
      " [ 6.3261]\n",
      " [ 5.5649]\n",
      " [18.945 ]\n",
      " [12.828 ]\n",
      " [10.957 ]\n",
      " [13.176 ]\n",
      " [22.203 ]\n",
      " [ 5.2524]\n",
      " [ 6.5894]\n",
      " [ 9.2482]\n",
      " [ 5.8918]\n",
      " [ 8.2111]\n",
      " [ 7.9334]\n",
      " [ 8.0959]\n",
      " [ 5.6063]\n",
      " [12.836 ]\n",
      " [ 6.3534]\n",
      " [ 5.4069]\n",
      " [ 6.8825]\n",
      " [11.708 ]\n",
      " [ 5.7737]\n",
      " [ 7.8247]\n",
      " [ 7.0931]\n",
      " [ 5.0702]\n",
      " [ 5.8014]\n",
      " [11.7   ]\n",
      " [ 5.5416]\n",
      " [ 7.5402]\n",
      " [ 5.3077]\n",
      " [ 7.4239]\n",
      " [ 7.6031]\n",
      " [ 6.3328]\n",
      " [ 6.3589]\n",
      " [ 6.2742]\n",
      " [ 5.6397]\n",
      " [ 9.3102]\n",
      " [ 9.4536]\n",
      " [ 8.8254]\n",
      " [ 5.1793]\n",
      " [21.279 ]\n",
      " [14.908 ]\n",
      " [18.959 ]\n",
      " [ 7.2182]\n",
      " [ 8.2951]\n",
      " [10.236 ]\n",
      " [ 5.4994]\n",
      " [20.341 ]\n",
      " [10.136 ]\n",
      " [ 7.3345]\n",
      " [ 6.0062]\n",
      " [ 7.2259]\n",
      " [ 5.0269]\n",
      " [ 6.5479]\n",
      " [ 7.5386]\n",
      " [ 5.0365]\n",
      " [10.274 ]\n",
      " [ 5.1077]\n",
      " [ 5.7292]\n",
      " [ 5.1884]\n",
      " [ 6.3557]\n",
      " [ 9.7687]\n",
      " [ 6.5159]\n",
      " [ 8.5172]\n",
      " [ 9.1802]\n",
      " [ 6.002 ]\n",
      " [ 5.5204]\n",
      " [ 5.0594]\n",
      " [ 5.7077]\n",
      " [ 7.6366]\n",
      " [ 5.8707]\n",
      " [ 5.3054]\n",
      " [ 8.2934]\n",
      " [13.394 ]\n",
      " [ 5.4369]] \n",
      "\n",
      "Y dimenziója: (97, 1) ; Y értékei:\n",
      " [[17.592  ]\n",
      " [ 9.1302 ]\n",
      " [13.662  ]\n",
      " [11.854  ]\n",
      " [ 6.8233 ]\n",
      " [11.886  ]\n",
      " [ 4.3483 ]\n",
      " [12.     ]\n",
      " [ 6.5987 ]\n",
      " [ 3.8166 ]\n",
      " [ 3.2522 ]\n",
      " [15.505  ]\n",
      " [ 3.1551 ]\n",
      " [ 7.2258 ]\n",
      " [ 0.71618]\n",
      " [ 3.5129 ]\n",
      " [ 5.3048 ]\n",
      " [ 0.56077]\n",
      " [ 3.6518 ]\n",
      " [ 5.3893 ]\n",
      " [ 3.1386 ]\n",
      " [21.767  ]\n",
      " [ 4.263  ]\n",
      " [ 5.1875 ]\n",
      " [ 3.0825 ]\n",
      " [22.638  ]\n",
      " [13.501  ]\n",
      " [ 7.0467 ]\n",
      " [14.692  ]\n",
      " [24.147  ]\n",
      " [-1.22   ]\n",
      " [ 5.9966 ]\n",
      " [12.134  ]\n",
      " [ 1.8495 ]\n",
      " [ 6.5426 ]\n",
      " [ 4.5623 ]\n",
      " [ 4.1164 ]\n",
      " [ 3.3928 ]\n",
      " [10.117  ]\n",
      " [ 5.4974 ]\n",
      " [ 0.55657]\n",
      " [ 3.9115 ]\n",
      " [ 5.3854 ]\n",
      " [ 2.4406 ]\n",
      " [ 6.7318 ]\n",
      " [ 1.0463 ]\n",
      " [ 5.1337 ]\n",
      " [ 1.844  ]\n",
      " [ 8.0043 ]\n",
      " [ 1.0179 ]\n",
      " [ 6.7504 ]\n",
      " [ 1.8396 ]\n",
      " [ 4.2885 ]\n",
      " [ 4.9981 ]\n",
      " [ 1.4233 ]\n",
      " [-1.4211 ]\n",
      " [ 2.4756 ]\n",
      " [ 4.6042 ]\n",
      " [ 3.9624 ]\n",
      " [ 5.4141 ]\n",
      " [ 5.1694 ]\n",
      " [-0.74279]\n",
      " [17.929  ]\n",
      " [12.054  ]\n",
      " [17.054  ]\n",
      " [ 4.8852 ]\n",
      " [ 5.7442 ]\n",
      " [ 7.7754 ]\n",
      " [ 1.0173 ]\n",
      " [20.992  ]\n",
      " [ 6.6799 ]\n",
      " [ 4.0259 ]\n",
      " [ 1.2784 ]\n",
      " [ 3.3411 ]\n",
      " [-2.6807 ]\n",
      " [ 0.29678]\n",
      " [ 3.8845 ]\n",
      " [ 5.7014 ]\n",
      " [ 6.7526 ]\n",
      " [ 2.0576 ]\n",
      " [ 0.47953]\n",
      " [ 0.20421]\n",
      " [ 0.67861]\n",
      " [ 7.5435 ]\n",
      " [ 5.3436 ]\n",
      " [ 4.2415 ]\n",
      " [ 6.7981 ]\n",
      " [ 0.92695]\n",
      " [ 0.152  ]\n",
      " [ 2.8214 ]\n",
      " [ 1.8451 ]\n",
      " [ 4.2959 ]\n",
      " [ 7.2029 ]\n",
      " [ 1.9869 ]\n",
      " [ 0.14454]\n",
      " [ 9.0551 ]\n",
      " [ 0.61705]] \n",
      "\n",
      "Az adatok száma:  97\n"
     ]
    }
   ],
   "source": [
    "X=[]                               # listák definiálása\n",
    "Y=[]\n",
    "for line in lines:                 # Soronként végigmegyünk a beolvasott adatokon\n",
    "  a,b = line.split(',')            # és szétdaraboljuk az elválasztó karakternek megfelelően\n",
    "  X.append(float (a))\n",
    "  Y.append(float(b))\n",
    "\n",
    "X=np.array(X)                      # Numpy tömbbé alakítjuk az adatainkat\n",
    "Y=np.array(Y) \n",
    "m=Y.size\n",
    "X=X.reshape(m,1)                   # Formátum egyeztetés végett mx1-es mátrixként kezeljük az oszlopvektorokat is \n",
    "Y=Y.reshape(m,1) \n",
    "\n",
    "print('X dimenziója:', X.shape, '; X értékei:\\n', X, '\\n')                \n",
    "print('Y dimenziója:', Y.shape, '; Y értékei:\\n', Y, '\\n')\n",
    "print('Az adatok száma: ', m)"
   ]
  },
  {
   "cell_type": "markdown",
   "metadata": {},
   "source": [
    "Rajzoltassuk ki az adatokat egy grafikonra, hogy láthassuk az adatok struktúráját!"
   ]
  },
  {
   "cell_type": "code",
   "execution_count": 4,
   "metadata": {},
   "outputs": [
    {
     "data": {
      "image/png": "[encoded data removed]",
      "text/plain": [
       "<Figure size 432x288 with 1 Axes>"
      ]
     },
     "metadata": {
      "needs_background": "light"
     },
     "output_type": "display_data"
    }
   ],
   "source": [
    "plt.plot(X,Y,'o', c= \"g\")   \n",
    "plt.title(\"Training data\")\n",
    "plt.xlabel(\"Population of a city in 10 000s\")\n",
    "plt.ylabel(\"Profit in $10 000s \")\n",
    "plt.show()"
   ]
  },
  {
   "cell_type": "markdown",
   "metadata": {},
   "source": [
    "A grafikonon tehát látható például, hogy egy 150.000 népességű városban kb 120.000$ nyereség várható. Ezek a címkézett adataink, tehát minden mintának megvan az elvárt kimenete is. Példánk során a népesség adatok lesznek a bemeneteke és a várható profit a kimenet."
   ]
  },
  {
   "cell_type": "markdown",
   "metadata": {},
   "source": [
    "### 3: A hipotézis: Lineáris regressziós modell\n",
    "A grafikonon látható adatokat egy egyenessel próbáljuk meg közelíteni, ez lesz a kiindulási hipotézisünk.\n",
    "Lineáris regressziós modellünk az alábbi alakban írható fel:\n",
    "\n",
    "$ h_{w}(x) = w_{0} + xw_{1}  = \\hat{y}$\n",
    "\n",
    ",ahol <br>\n",
    "$h$ - hipotézis<br>\n",
    "$x$ - bemenő adat, vagy más néven feature. (Modellünkben egy darab változó van.)<br>\n",
    "$w$ - súlyok, vagy más néven weight <br>\n",
    "$\\hat{y}$ - becslés\n",
    "\n",
    "Az algoritmus blokkvázlatát az alábbi ábra szemlélteti."
   ]
  },
  {
   "cell_type": "markdown",
   "metadata": {},
   "source": [
    "<img src=\"files/Pics/L01_Model.png\" width=\"350\">"
   ]
  },
  {
   "cell_type": "markdown",
   "metadata": {},
   "source": [
    "A cél, hogy egy város méretét megadva a hipotézisunknek megfelelően a várható profit legyen a kimenet. Ahhoz, hogy ezt megtegyünk a hipotézésünket kell először felállítani. Első lépésben megadjuk a modellt, ami esetünkben a lineáris illeszkedés, majd a paramétereket a rendelkezésünkre álló minták segítségével állítjuk be, vagyis betanítjuk.\n",
    "\n",
    "A modellünk jóságának vizsgálatához definiálnunk kell egy költség függvényt. A költség függvény fogja meghatározni, hogy mennyire jó a modellünk az adott iterációban."
   ]
  },
  {
   "cell_type": "markdown",
   "metadata": {},
   "source": [
    "### 4. Költség függvény (Cost function)"
   ]
  },
  {
   "cell_type": "markdown",
   "metadata": {},
   "source": [
    "Költségfüggvénynek (más néven Cost function vagy Hiba függvény) az MSE (Mean Squared Error) függvényt választjuk, mely az alábbi alakban írható fel:\n",
    "\n",
    "$C=\\frac{1}{2m}\\sum_{i=1}^{m}(\\hat{y}^{i}-y^{i})^2$\n",
    "\n",
    "Vagyis a mintákhoz tartozó becsléseink és címkéink különbségeinek négyzetes összege. Így a hiba mindig egy pozítív szám lesz, minél kisebb, annál jobb a becslésünk. A mintaszámnak megfelelő konstans szorzó tag a későbbiekben kap majd több szerepet. A hibafüggvén jellegét nem befolyásolja.\n",
    "\n",
    "Behelyettesítve a hipotézisünket az alábbi alakot kapjuk:\n",
    "\n",
    "$C=\\frac{1}{2m}\\sum_{i=1}^{m}(h_w(x^{i})-y^{i})^2$\n",
    "\n",
    "Végső teljes formában pedig:\n",
    "\n",
    "$ C(w_{0},w_{1})=\\frac{1}{2m} \\cdot \\sum_{i=1}^{m}(w_{0} + x^iw_{1} − y^{i})^2 $\n",
    " \n",
    "Mivel előre látóan úgy definiáltuk a hipotézisünket, hogy az egyenes meredekségén kívül az eltolását is tudjuk állítani a $w_0$ súllyal a mátrix műveletek elősegítése érdekében érdemes bevezetni egy változót. Legyen $x_0=1$, tehát az egy változós bemenetünket kibővítettük egy BIAS taggal. \n",
    "\n",
    "$ C(w_{0},w_{1})=\\frac{1}{2m} \\cdot \\sum_{i=1}^{m}(w_{0}x^{i}_{0} + w_{1}x^{i}_{1} − y^{i})^2 $\n",
    "\n",
    "Ezzel a bővítéssel, miszerint a constans 1-es tagot is bemeneti változónak tekintjük, a mátrixos felírást segítettük elő. \n",
    "\n",
    "Mátrixos formában a következő képpen írhatjuk fel a költség függvényt:\n",
    "\n",
    "$ C = \\frac{1}{2m} \\cdot \\sum(XW-Y)^2 $\n",
    "\n",
    "Tekintsük át a példa során használt mátrixokat."
   ]
  },
  {
   "cell_type": "markdown",
   "metadata": {},
   "source": [
    "<img src=\"files/Pics/L01_Matrixok.png\" width=\"350\">"
   ]
  },
  {
   "cell_type": "markdown",
   "metadata": {},
   "source": [
    "Ezen mátrixok segítségével a mintánkénti becslésünk és az összes mintára vonatkozó költség függvény kiszámítása is egyszerűen elvégezhető.\n",
    "<img src=\"files/Pics/L01_CostCalculation.png\" width=\"550\">"
   ]
  },
  {
   "cell_type": "markdown",
   "metadata": {},
   "source": [
    "Hozzuk létre a szükséges mátrixokat! A kezdeti súlyokat 0-val inicializáljuk!"
   ]
  },
  {
   "cell_type": "code",
   "execution_count": 5,
   "metadata": {},
   "outputs": [
    {
     "name": "stdout",
     "output_type": "stream",
     "text": [
      "Eddig jó, tovább mehet!\n"
     ]
    }
   ],
   "source": [
    "# W inicializálása, X bővítése\n",
    "######################################################\n",
    "if (X.shape[1] == 1):\n",
    "    X=np.column_stack((np.ones(m),X))\n",
    "\n",
    "W=np.zeros((2,1))   \n",
    "######################################################\n",
    "\n",
    "test1()"
   ]
  },
  {
   "cell_type": "markdown",
   "metadata": {},
   "source": [
    "Ellenőrizzük le a tömbjeink dimenzióját a mátixműveletek előtt."
   ]
  },
  {
   "cell_type": "code",
   "execution_count": 6,
   "metadata": {},
   "outputs": [
    {
     "name": "stdout",
     "output_type": "stream",
     "text": [
      "X dimenziója:\n",
      " (97, 2)\n",
      "Y dimenziója:\n",
      " (97, 1)\n",
      "W dimenziója:\n",
      " (2, 1)\n"
     ]
    }
   ],
   "source": [
    "print('X dimenziója:\\n', X.shape)                \n",
    "print('Y dimenziója:\\n', Y.shape)\n",
    "print('W dimenziója:\\n', W.shape)"
   ]
  },
  {
   "cell_type": "markdown",
   "metadata": {},
   "source": [
    "### Költség függvény:\n",
    "Definiáljuk a költségfüggvény kiszámolására egy függvényt, amely bemenő paraméterként megkapja az $X$, $Y$ és $W$ mátrixokat és a kiszámolt skalár költséggel tér vissza."
   ]
  },
  {
   "cell_type": "code",
   "execution_count": 7,
   "metadata": {},
   "outputs": [
    {
     "name": "stdout",
     "output_type": "stream",
     "text": [
      "Az eredmények helyesek! Tovább mehet!\n"
     ]
    }
   ],
   "source": [
    "def computeCost(X,Y,W):\n",
    "######################################################   \n",
    "    m = Y.shape[0]\n",
    "    C = np.sum((X@W - Y)**2, axis=None)/(2*m)\n",
    "######################################################\n",
    "    return C\n",
    "\n",
    "test2()"
   ]
  },
  {
   "cell_type": "code",
   "execution_count": 8,
   "metadata": {},
   "outputs": [
    {
     "name": "stdout",
     "output_type": "stream",
     "text": [
      "Teszt (Cost function):\n",
      "\tSúlyok: W = [0;0]\n",
      "\tElvárt érték (közelítve) = 32.0727\n",
      "\tSzámolt érték =  32.072733877455676\n",
      "\n",
      "\tSúlyok: W = [-1;2]\n",
      "\tElvárt érték (közelítve) = 54.2425\n",
      "\tSzámolt érték =  54.24245508201238\n"
     ]
    }
   ],
   "source": [
    "C1=computeCost(X,Y,np.array([[0],[0]]).reshape((2,1)))\n",
    "print('''Teszt (Cost function):\n",
    "\\tSúlyok: W = [0;0]\n",
    "\\tElvárt érték (közelítve) = 32.0727\n",
    "\\tSzámolt érték = ''',C1)\n",
    "C2=computeCost(X,Y,np.array([[-1],[2]]))\n",
    "print('''\\n\\tSúlyok: W = [-1;2]\n",
    "\\tElvárt érték (közelítve) = 54.2425\n",
    "\\tSzámolt érték = ''',C2)"
   ]
  },
  {
   "cell_type": "markdown",
   "metadata": {},
   "source": [
    "### 5. Gradiens módszer:"
   ]
  },
  {
   "cell_type": "markdown",
   "metadata": {},
   "source": [
    "Miután definiáltuk a költség függvényt a feladatunk a költségfüggvény minimalizálása. Optimumra törekszünk. A minimum pont megtalálásához pedig a graiens módszert fogjuk alkalmazni.\n",
    "\n",
    "A gradiens módszer lényege, hogy a függvény adott pontjában kiszámoljuk annak gradiensét (deriváltját). A derivált esetünkben gyakorlatilag meghatározza a függvény érintő egyenesét az adott pontban. Ennek megfelelően meg tudjuk határozni, hogy a függvényen merre kell elmozdulnunk, hogy a minimumhoz közelebb kerüljünk. A minimum pontotban a függvény deriváltja 0."
   ]
  },
  {
   "cell_type": "markdown",
   "metadata": {},
   "source": [
    "<img src=\"files/Pics/L01_Gradient.png\" width=\"450\">"
   ]
  },
  {
   "cell_type": "markdown",
   "metadata": {},
   "source": [
    "A költség függvény gradiensét (parciális deriváltjait) kiszámolva modosítjuk a súlyokat. A modosításokat addig folytatjuk, amíg az algoritmus be nem konvergál a minimum pontba.\n",
    "\n",
    "A súlyfrissítés a gradiens módszer az alábbi képlettel írható le: \n",
    "\n",
    "$w_j:=w_j-\\mu\\frac{\\partial}{\\partial w_j}C(w_0,w_1)$ \n",
    "\n",
    ",ahol <br>\n",
    "$\\mu$ - tanulási ráta, a konvergencia gyorsaságának beállítására szolgáló paraméter. Értéke $0 < \\mu < 1$.\n",
    "\n",
    "$\\mu$ - t kicsinek választva a konvergencia lelasssul, viszont jobban megközelíti a minimum pontot <br>\n",
    "$\\mu$ - t túl nagyra állítva előfordulhat divergencia, ami az algoritmus elszállásához vezethet. \n",
    "\n",
    "Amire figyelni kell a módszer alkalmazásakor, hogy a súlyók módosítását egyszerre, szinkronban kell elvégezni.\n"
   ]
  },
  {
   "cell_type": "markdown",
   "metadata": {},
   "source": [
    "### 6. Gradiens módszer alkalmazása Lineáris regresszióra"
   ]
  },
  {
   "cell_type": "markdown",
   "metadata": {},
   "source": [
    "A lineáris regressziós modell hipotézise és költség függvénye:\n",
    "\n",
    "$ h_w(x)=w_0+w_1x $\n",
    "\n",
    "$ \\color{blue}{C(w_0,w_1)}=\\frac{1}{2m}\\sum_{i=1}^{m}(h_w(x^{i})-y^{i})^2 $\n",
    "\n",
    "A gradiens módszer súlyfrissítése:\n",
    "\n",
    "$w_j:=w_j-\\mu\\frac{\\partial}{\\partial w_j}\\color{blue}{C(w_0,w_1)}$ \n",
    "\n",
    "Behellyetesítve a lineáris regressziós modellt a gradiens módszerbe a parciális deriváltra kapjuk a következőt:\n",
    "\n",
    "$ \\frac{\\partial}{\\partial w_j}C(w_0,w_1)=\\frac{\\partial}{\\partial w_j}\\frac{1}{2m}\\sum_{i=1}^{m}(h_w(x^{i})-y^{i})^2\n",
    "=\\frac{\\partial}{\\partial w_j}\\frac{1}{2m}\\sum_{i=1}^{m}(w_0+w_1x^i-y^{i})^2 $\n",
    "\n",
    "Elvégezve a parciális deriválást a súlyoknak megfelelően.\n",
    "\n",
    "$ \\color{red}{(j=0)}\\hspace{7mm} \\frac{\\partial}{\\partial w_j}C(w_0,w_1)=\\frac{1}{m}\\sum_{i=1}^{m}(w_0+w_1x^i-y^{i})\\cdot 1=\\frac{1}{m}\\sum_{i=1}^{m}((h_w(x^{i})-y^{i})\\cdot \\color{red}{x_0^i}) $\n",
    "\n",
    "$ \\color{red}{(j=1)}\\hspace{7mm} \\frac{\\partial}{\\partial w_j}C(w_0,w_1)=\\frac{1}{m}\\sum_{i=1}^{m}(w_0+w_1x^i-y^{i})\\cdot x_1^i=\\frac{1}{m}\\sum_{i=1}^{m}((h_w(x^{i})-y^{i})\\cdot x_1^i) $\n",
    "\n",
    "Tehát ennek megfelelően a példánk súlyfrissítései a következő képpen adódnak:\n",
    "\n",
    "$ w_0=w_0-\\frac{\\mu}{m}\\sum_{i=1}^{m}((h_w(x^{i})-y^{i}) \\cdot \\color{red}{x_0^i}) $\n",
    "\n",
    "$ w_1=w_1-\\frac{\\mu}{m}\\sum_{i=1}^{m}((h_w(x^{i})-y^{i}) \\cdot x^i_1) $\n",
    "\n",
    "Mivel bevezettük a $ x_0 $ -t mint változót, a súlyfrissítési képlet jól általánosítható a különböző esetekre. Figyelni kell továbbá, hogy a kódolás során a súlyokat egyszerre frissítsük, mivel az aszinkron frissítés számolás beli hibát okzhat!\n"
   ]
  },
  {
   "cell_type": "markdown",
   "metadata": {},
   "source": [
    "A folyamatot addig folytatjuk, míg el nem érjük az optimum pontot vagy el nem érünk egy kívánt iterációs számot. Definiáljunk tehát egy tanulási rátát és egy epoch számot, amely a kívánt frissítések számát fogja limitálni."
   ]
  },
  {
   "cell_type": "code",
   "execution_count": 9,
   "metadata": {},
   "outputs": [],
   "source": [
    "epochs= 1500                       \n",
    "learning_rate=0.01"
   ]
  },
  {
   "cell_type": "markdown",
   "metadata": {},
   "source": [
    "Definiáljuk egy függvényt, mely végrehajtja a gradiens módzsert. A függvényen belül a $C_{history}$ változóba tároljok a költségfüggvényünk előző értékeit is a későbbi kiértékeléshez!"
   ]
  },
  {
   "cell_type": "code",
   "execution_count": 59,
   "metadata": {
    "scrolled": true
   },
   "outputs": [
    {
     "name": "stdout",
     "output_type": "stream",
     "text": [
      "A függvény jól működik, tovább mehet!\n"
     ]
    }
   ],
   "source": [
    "def gradientDescent(X, Y, W, learning_rate, epochs):\n",
    "    m = Y.size\n",
    "    C_history = np.zeros((epochs,1))\n",
    "######################################################    #VIGYÁZAT szimultán update!!!!!\n",
    "\n",
    "    for i in range(0,epochs):\n",
    "        new_W=np.zeros((2,1))\n",
    "        new_W[0] = W[0] - (learning_rate/m) * np.sum(X@W-Y, axis=None)\n",
    "        new_W[1] = W[1] - (learning_rate/m) * np.sum((X@W-Y)*(X[:,1].reshape(97,1)), axis=None)\n",
    "        W=new_W.copy()\n",
    "        C_history[i] = computeCost(X,Y,W)\n",
    "        \n",
    "######################################################\n",
    "    return W,C_history\n",
    "\n",
    "test3()"
   ]
  },
  {
   "cell_type": "markdown",
   "metadata": {},
   "source": [
    "Futtassuk le a grádiens módszert alkalmazó függvényünket!"
   ]
  },
  {
   "cell_type": "code",
   "execution_count": null,
   "metadata": {},
   "outputs": [],
   "source": [
    "print('''\\n gradientDescent() függvény teszt (learning_rate=0.01):\n",
    "\\tWeights expected (approx.): \n",
    "\\t [-3.6303] [1.1664]''')\n",
    "W,C_history=gradientDescent(X,Y,W,learning_rate,epochs)\n",
    "print('\\tWeights calculated:\\n\\t',W[0],W[1])\n",
    "\n",
    "if (W[0]+3.6303) < 0.1 and (W[1]-1.1664) < 0.1:\n",
    "    print(\"\\n A gradientDescent függvény megfelelő. Tovább mehet.\")\n",
    "else:\n",
    "    print(\"\\n Valami nem stimmel. Korrekció szükséges!\")"
   ]
  },
  {
   "cell_type": "markdown",
   "metadata": {},
   "source": [
    "### 7. Vizualizáció\n",
    "### Költségfüggvény megjelenítése az iterációk során:\n",
    "Rajzoljuk ki a költségfüggvény értékeit az iterációk során! Ezáltal láthatjuk, hogy az algoritmusunk ténylegesen hogyan konvergál az epochoch során. "
   ]
  },
  {
   "cell_type": "code",
   "execution_count": null,
   "metadata": {},
   "outputs": [],
   "source": [
    "plt.plot(C_history)\n",
    "plt.title(\"Cost function of Gradient descent algorithm\")\n",
    "plt.xlabel(\"Epoch\")\n",
    "plt.ylabel(\"Cost\")\n",
    "plt.show()"
   ]
  },
  {
   "cell_type": "markdown",
   "metadata": {},
   "source": [
    "### Az illesztett egyenes megjelenítése a bemeneti adatokra"
   ]
  },
  {
   "cell_type": "code",
   "execution_count": null,
   "metadata": {},
   "outputs": [],
   "source": [
    "plt.plot((X[:,1]).reshape(97,1),Y,'o', label = \"Training data\")\n",
    "plt.plot((X[:,1]).reshape(97,1),X@W,'-',label = \"Linear regression\")\n",
    "plt.xlabel(\"Population of a city in 10 000s\")\n",
    "plt.ylabel(\"Profit in $10 000s \")\n",
    "plt.title(\"Linear regression and the training data\")\n",
    "plt.legend()\n",
    "plt.show()"
   ]
  },
  {
   "cell_type": "markdown",
   "metadata": {},
   "source": [
    "### 8. Predikció a tanított modellel\n",
    "A modell használatához végezzünk becslést egy 10.000 és egy 17.000 fős városban a várható profitra."
   ]
  },
  {
   "cell_type": "code",
   "execution_count": null,
   "metadata": {},
   "outputs": [],
   "source": [
    "Prediction1 = (np.array([1, 10]))@W\n",
    "Prediction2 = (np.array([1, 17]))@W\n",
    "print('\\nPrediction for 10 000 citizens: %.2f $' % (Prediction1 * 10000))\n",
    "print('\\nPrediction for 17 000 citizens: %.2f $' % (Prediction2 * 10000))"
   ]
  },
  {
   "cell_type": "markdown",
   "metadata": {},
   "source": [
    "### Költségfüggvény megjelenítése / surface plot\n",
    "A jobb szemléltetés érdekében érdemes megvizsgálni a költségfüggvényt egy nagyobb intervallumon. Ehhez hozzunk létre egy-egy vektort a két súlyunknak, és minden értékpárra számoljuk ki a költséget. Így kaphatunk egy képet, milyen felületen kerestük az optimum pontot és hol találtuk azt meg."
   ]
  },
  {
   "cell_type": "code",
   "execution_count": null,
   "metadata": {},
   "outputs": [],
   "source": [
    "w0_vals = np.linspace(-10,10,100)\n",
    "w1_vals = np.linspace(-1,4,100)\n",
    "C_vals = np.zeros((w0_vals.size,w1_vals.size))\n",
    "\n",
    "for i in range((w0_vals).size):\n",
    "    for j in range((w1_vals).size):\n",
    "        t=np.array([w0_vals[i],w1_vals[j]]).reshape(2,1)\n",
    "        C_vals[[i],[j]]= computeCost(X,Y,t)\n",
    "C_vals=C_vals.T\n",
    "\n",
    "fig= plt.figure()\n",
    "ax=plt.axes(projection='3d')\n",
    "x, y = np.meshgrid(w0_vals, w1_vals)\n",
    "surf = ax.plot_surface(x, y, C_vals, cmap=cm.coolwarm,linewidth=0, antialiased=False)\n",
    "plt.title(\"Surface plot of the Cost function\")\n",
    "plt.xlabel(\"w0\")\n",
    "plt.ylabel(\"w1\")\n",
    "plt.show()"
   ]
  },
  {
   "cell_type": "markdown",
   "metadata": {},
   "source": [
    "### Költségfüggvény megjelenítése / contour plot\n",
    "A contour plot szintén egy hasznos megjelenítési lehetőség, melynek előnye, hogy 2D-be lapítottuk a 3D-s felületünket a könnyebb átláthatóság kedvéért."
   ]
  },
  {
   "cell_type": "code",
   "execution_count": null,
   "metadata": {},
   "outputs": [],
   "source": [
    "plt.contour(w0_vals,w1_vals,C_vals,np.logspace(-2,3,20))\n",
    "plt.plot(W[0],W[1],'x')\n",
    "plt.title(\"Contour plot of C_vals in logarithmic scale\")\n",
    "plt.xlabel(\"w_0\")\n",
    "plt.ylabel(\"w_1\")\n",
    "plt.show()"
   ]
  },
  {
   "cell_type": "markdown",
   "metadata": {},
   "source": [
    "## Mégegyszer. Magasabb szintű csomagok használatával:\n",
    "A Python és különbőző magasabb szintű csomagjai használatával lehetőséget biztosít sokkal kompaktabb kód írására is, ezzel elősegítve a gyors prototipizálást. Lássunk, hogy lehet a gyakorlat során megvizsgált példát tömörebben megoldani."
   ]
  },
  {
   "cell_type": "code",
   "execution_count": null,
   "metadata": {},
   "outputs": [],
   "source": [
    "import pandas as pd                                  # Pandas az adatkezelésre\n",
    "from sklearn.linear_model import LinearRegression    # sklearn a tanuló algoritmus helyett\n",
    "import matplotlib.pyplot as plt\n",
    "\n",
    "data = pd.read_csv('Lab1data.txt', header = None)    # adatok beolvasása\n",
    "XX = data.iloc[:, 0].values.reshape(-1, 1)           # adatok szétválogatása\n",
    "YY = data.iloc[:, 1].values.reshape(-1, 1)           # adatok szétválogatása\n",
    "\n",
    "\n",
    "lin_reg = LinearRegression()                         # lineáris regresszió class létrehozása\n",
    "lin_reg.fit(XX,YY)                                   # lineáris regresszió illesztése\n",
    "pred1 = lin_reg.predict([[10]])                      # predikció 10 000 főre\n",
    "pred2 = lin_reg.predict([[17]])                      # predikció 17 000 főre\n",
    "\n",
    "print('Prediction for a city with a population of 10 000: %.2f $' % (pred1*10000))\n",
    "print('Prediction for a city with a population of 17 000: %.2f $' % (pred2*10000))\n",
    "\n",
    "regline = lin_reg.predict([[5],[22.5]])              # regressziós egyenes kiiratásához kell    \n",
    "\n",
    "plt.scatter(XX,YY, label = \"Training data\")          # plot\n",
    "plt.plot([[5],[22.5]],regline,'r')\n",
    "plt.xlabel(\"Population of a city in 10 000s\")\n",
    "plt.ylabel(\"Profit in $10 000s \")\n",
    "plt.title(\"Linear regression and the training data\")\n",
    "plt.legend()\n",
    "plt.show()"
   ]
  },
  {
   "cell_type": "markdown",
   "metadata": {},
   "source": [
    "<div style=\"text-align: right\">Ez a laborgyakorlat felhasznál elemeket Andrew Ng Machine Learning c. kurzusából.</div>"
   ]
  }
 ],
 "metadata": {
  "kernelspec": {
   "display_name": "Python 3",
   "language": "python",
   "name": "python3"
  },
  "language_info": {
   "codemirror_mode": {
    "name": "ipython",
    "version": 3
   },
   "file_extension": ".py",
   "mimetype": "text/x-python",
   "name": "python",
   "nbconvert_exporter": "python",
   "pygments_lexer": "ipython3",
   "version": "3.7.7"
  }
 },
 "nbformat": 4,
 "nbformat_minor": 2
}
